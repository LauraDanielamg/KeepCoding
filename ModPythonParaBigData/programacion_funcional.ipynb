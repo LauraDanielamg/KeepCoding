{
 "cells": [
  {
   "cell_type": "markdown",
   "metadata": {},
   "source": [
    "# Programación Funcional"
   ]
  },
  {
   "cell_type": "markdown",
   "metadata": {},
   "source": [
    "## Qué es la programación funcional?\n",
    "La programción fucional es el paradigma que utiliza funciones para expresar su comportamiento.\n",
    "\n",
    "Para entender la programación funcional, es necesario entender la programación imperativa y los side effects.\n",
    "La programación imperativa se puede definir como la programación que se ejecuta de forma secuencial y va cambiando el estado de la aplicación.\n",
    "por cambiar el estado de la aplicación nos referimos a la modificación de de las variable y los objetos de la aplicación.\n",
    "\n",
    "En contraposición a la programación imperativa, la programación funcional no modifica el estado de la aplicación."
   ]
  },
  {
   "cell_type": "markdown",
   "metadata": {},
   "source": [
    "### Ejemplo de programacion funcional vs programación imperativa"
   ]
  },
  {
   "cell_type": "code",
   "execution_count": 2,
   "metadata": {},
   "outputs": [],
   "source": [
    "# Programacion imperativa\n",
    "enteros = [1,2,3,4,5,6]"
   ]
  },
  {
   "cell_type": "code",
   "execution_count": 3,
   "metadata": {},
   "outputs": [
    {
     "name": "stdout",
     "output_type": "stream",
     "text": [
      "[2, 4, 6]\n"
     ]
    }
   ],
   "source": [
    "'''\n",
    "lista los números pares de la lista enteros\n",
    "'''\n",
    "pares = []\n",
    "for valor in enteros:\n",
    "    if valor % 2 == 0:\n",
    "        pares.append(valor)\n",
    "print(pares)"
   ]
  },
  {
   "cell_type": "code",
   "execution_count": 4,
   "metadata": {},
   "outputs": [
    {
     "name": "stdout",
     "output_type": "stream",
     "text": [
      "[4, 16, 36]\n"
     ]
    }
   ],
   "source": [
    "'''\n",
    "eleva al cuadrado los números de la lista pares\n",
    "'''\n",
    "cuadrados = []\n",
    "for valor in pares:\n",
    "    cuadrados.append(valor**2)\n",
    "print(cuadrados)"
   ]
  },
  {
   "cell_type": "code",
   "execution_count": 5,
   "metadata": {},
   "outputs": [
    {
     "name": "stdout",
     "output_type": "stream",
     "text": [
      "56\n"
     ]
    }
   ],
   "source": [
    "'''\n",
    "suma todos los números de la lista cuadrados\n",
    "'''\n",
    "sumatorio = 0\n",
    "for valor in cuadrados:\n",
    "    sumatorio += valor\n",
    "print(sumatorio)"
   ]
  },
  {
   "cell_type": "markdown",
   "metadata": {},
   "source": [
    "Como podemos ver en el ejemplo anterior, mediante programación imperativa vamos creando una serie de variables, modificando su estado y obteniendo un resultado.\n",
    "Ahora vamos a hacer lo mismo con programación funcional."
   ]
  },
  {
   "cell_type": "code",
   "execution_count": null,
   "metadata": {},
   "outputs": [],
   "source": [
    "# Programacion funcional\n",
    "enteros = [1,2,3,4,5,6,8]"
   ]
  },
  {
   "cell_type": "code",
   "execution_count": 14,
   "metadata": {},
   "outputs": [
    {
     "data": {
      "text/plain": [
       "<filter at 0x7f3720e8b580>"
      ]
     },
     "execution_count": 14,
     "metadata": {},
     "output_type": "execute_result"
    }
   ],
   "source": [
    "'''\n",
    "lista los números pares de la lista enteros\n",
    "'''\n",
    "filter(lambda x: x % 2 == 0, enteros)"
   ]
  },
  {
   "cell_type": "code",
   "execution_count": 11,
   "metadata": {},
   "outputs": [
    {
     "data": {
      "text/plain": [
       "[4, 16, 36]"
      ]
     },
     "execution_count": 11,
     "metadata": {},
     "output_type": "execute_result"
    }
   ],
   "source": [
    "'''\n",
    "eleva al cuadrado los números de la lista pares\n",
    "'''\n",
    "list(map(lambda x: x**2, list(filter(lambda x: x % 2 == 0, enteros))))"
   ]
  },
  {
   "cell_type": "code",
   "execution_count": 12,
   "metadata": {},
   "outputs": [
    {
     "data": {
      "text/plain": [
       "56"
      ]
     },
     "execution_count": 12,
     "metadata": {},
     "output_type": "execute_result"
    }
   ],
   "source": [
    "'''\n",
    "suma todos los números de la lista cuadrados\n",
    "'''\n",
    "from functools import reduce\n",
    "reduce(lambda x, y: x + y, list(map(lambda x: x**2, list(filter(lambda x: x % 2 == 0, enteros)))))"
   ]
  },
  {
   "cell_type": "markdown",
   "metadata": {},
   "source": [
    "### Conceptos"
   ]
  },
  {
   "cell_type": "markdown",
   "metadata": {},
   "source": [
    "#### Funciones puras\n",
    "\n",
    "- Son funciones que no tienen side effects, es decir, que no modifican el estado de la aplicación.\n",
    "- Dado un mismo input, siempre van a devolver el mismo output.\n",
    "- No dependen de ningún estado externo.\n"
   ]
  },
  {
   "cell_type": "markdown",
   "metadata": {},
   "source": [
    "#### Compocision de funciones\n",
    "\n",
    "- Es la combinación de dos o más funciones con el objetivo de ejecutarlas de forma secuencial para obtener un resultado."
   ]
  },
  {
   "cell_type": "markdown",
   "metadata": {},
   "source": [
    "Qué vamos a ver?\n",
    "- Funciones anonimas (lambda)\n",
    "- Filter\n",
    "- Map\n",
    "- zip\n",
    "- Reduce\n",
    "- partial"
   ]
  },
  {
   "cell_type": "markdown",
   "metadata": {},
   "source": [
    "### Lambda\n",
    "Las expresiones lamda son funciones anónimas."
   ]
  },
  {
   "cell_type": "code",
   "execution_count": 20,
   "metadata": {},
   "outputs": [
    {
     "name": "stdout",
     "output_type": "stream",
     "text": [
      "hola, soy un texto de prueba\n",
      " con saltos de linea\n",
      "hola soy un texto de prueba con saltos de linea\n"
     ]
    }
   ],
   "source": [
    "'''\n",
    "lambda se define como una funcion anonima.\n",
    "\n",
    "lambda x: x + 1\n",
    "      ^    ^\n",
    "      arg body\n",
    "\n",
    "a continuación de lambda se indican los argumentos de la funcion y después de : se indica el cuerpo de la funcion.\n",
    "'''\n",
    "sqroot = lambda x: x**0.5\n",
    "sqroot(4)\n",
    "\n",
    "multiplicar_por_2 = lambda x : x * 2\n",
    "\n",
    "sqroot(multiplicar_por_2(89))\n",
    "\n",
    "quitar_comas = lambda texto: texto.replace(',', '')\n",
    "quitar_salto_linea = lambda texto: texto.replace('\\n', '')\n",
    "\n",
    "texto_de_prueba = 'hola, soy un texto de prueba\\n con saltos de linea'\n",
    "print(texto_de_prueba)\n",
    "\n",
    "print(quitar_salto_linea(quitar_comas(texto_de_prueba)))\n"
   ]
  },
  {
   "cell_type": "code",
   "execution_count": 34,
   "metadata": {},
   "outputs": [
    {
     "data": {
      "text/plain": [
       "9"
      ]
     },
     "execution_count": 34,
     "metadata": {},
     "output_type": "execute_result"
    }
   ],
   "source": [
    "# También se puede indicar un número indefinido de argumentos.\n",
    "test = lambda *args: map(lambda x: x ** 2, args)\n",
    "list(test(1, 2, 3))\n",
    "\n",
    "# Accder individualmente a los argumentos\n",
    "test = lambda *args: args[1] ** 2\n",
    "test(2, 3, 4)"
   ]
  },
  {
   "cell_type": "markdown",
   "metadata": {},
   "source": [
    "### filter"
   ]
  },
  {
   "cell_type": "code",
   "execution_count": 26,
   "metadata": {},
   "outputs": [
    {
     "name": "stdout",
     "output_type": "stream",
     "text": [
      "[2, 4, 6, 8]\n"
     ]
    }
   ],
   "source": [
    "'''\n",
    "filter (función, iterable) => iterable\n",
    "'''\n",
    "enteros = [1,2,3,4,5,6,8]\n",
    "\n",
    "filtra_pares = lambda x: x % 2 == 0\n",
    "print(list(filter(filtra_pares, enteros)))"
   ]
  },
  {
   "cell_type": "code",
   "execution_count": 43,
   "metadata": {},
   "outputs": [
    {
     "name": "stdout",
     "output_type": "stream",
     "text": [
      "[40, 50, 60]\n",
      "[20, 30, 40]\n"
     ]
    }
   ],
   "source": [
    "'''\n",
    "filtra los números mayores a 40 y menores a 60 de la lista enteros\n",
    "'''\n",
    "edad = [10, 20, 30, 40, 50, 60, 70, 80, 90, 100]\n",
    "\n",
    "\n",
    "filtra_rango_40_60 = lambda x: x >= 40 and x <= 60\n",
    "filtra_rango_18_40 = lambda x: x >= 18 and x <= 40\n",
    "\n",
    "\n",
    "print(list(filter(filtra_rango_18_40, edad)))\n",
    "\n",
    "# lista_de_filtros = [filtra_rango_40_60, filtra_rango_18_40]\n",
    "# for filtro in lista_de_filtros:\n",
    "    # print(list(filter(filtro, edad)))"
   ]
  },
  {
   "cell_type": "markdown",
   "metadata": {},
   "source": [
    "Como hemos visto anteriormente podemos indicar una función lambda para filtrar una lista de elementos."
   ]
  },
  {
   "cell_type": "code",
   "execution_count": 45,
   "metadata": {},
   "outputs": [
    {
     "data": {
      "text/plain": [
       "[{'nombre': 'Maria', 'nacimiento': 1980},\n",
       " {'nombre': 'Juana', 'nacimiento': 1995},\n",
       " {'nombre': 'Jorge', 'nacimiento': 1985},\n",
       " {'nombre': 'Pablo', 'nacimiento': 1990},\n",
       " {'nombre': 'Clara', 'nacimiento': 1995}]"
      ]
     },
     "execution_count": 45,
     "metadata": {},
     "output_type": "execute_result"
    }
   ],
   "source": [
    "'''\n",
    "crea una función lambda que reciba un año de nacimiento y devuelva la edad actual\n",
    "'''\n",
    "edad = lambda x: 2022 - x\n",
    "'''\n",
    "ahora filtra una lista de usuarios que tengan una edad mayor a 18\n",
    "'''\n",
    "usuarios = [ \n",
    "    {'nombre': 'Juan', 'nacimiento': 2017},\n",
    "    {'nombre': 'Pedro', 'nacimiento': 2018},\n",
    "    {'nombre': 'Maria', 'nacimiento': 1980},\n",
    "    {'nombre': 'Juana', 'nacimiento': 1995},\n",
    "    {'nombre': 'Jorge', 'nacimiento': 1985},\n",
    "    {'nombre': 'Pablo', 'nacimiento': 1990},\n",
    "    {'nombre': 'Clara', 'nacimiento': 1995},\n",
    "    {'nombre': 'Bea', 'nacimiento': 2019},\n",
    "    {'nombre': 'Pilar', 'nacimiento': 2010},\n",
    "    ]\n",
    "\n",
    "mayores_a_18 = lambda entrada_diccionario: edad(entrada_diccionario['nacimiento']) >= 18\n",
    "list(filter(mayores_a_18, usuarios))"
   ]
  },
  {
   "cell_type": "code",
   "execution_count": 71,
   "metadata": {},
   "outputs": [
    {
     "data": {
      "text/plain": [
       "[{'nombre': 'Maria', 'edad': 42},\n",
       " {'nombre': 'Juana', 'edad': 27},\n",
       " {'nombre': 'Jorge', 'edad': 37},\n",
       " {'nombre': 'Pablo', 'edad': 32},\n",
       " {'nombre': 'Clara', 'edad': 27}]"
      ]
     },
     "execution_count": 71,
     "metadata": {},
     "output_type": "execute_result"
    }
   ],
   "source": [
    "# Itera un dataframe de pandas\n",
    "import pandas as pd\n",
    "\n",
    "mayores_a_18 = lambda x: edad(x[1]['nacimiento']) >= 18\n",
    "crear_objeto = lambda x: {'nombre': x[1]['nombre'], 'edad': edad(x[1]['nacimiento'])}\n",
    "\n",
    "list(map(crear_objeto, filter(mayores_a_18, pd.DataFrame(usuarios).iterrows())))"
   ]
  },
  {
   "cell_type": "code",
   "execution_count": 61,
   "metadata": {},
   "outputs": [
    {
     "data": {
      "text/plain": [
       "['prueba', 'filtrar', 'longitud']"
      ]
     },
     "execution_count": 61,
     "metadata": {},
     "output_type": "execute_result"
    }
   ],
   "source": [
    "'''\n",
    "Filtra las cadenas de la lista que tengan una longitud mayor a 5\n",
    "'''\n",
    "lista = ['hola', 'soy', 'un', 'texto', 'de', 'prueba', 'para', 'filtrar', 'por', 'longitud']\n",
    "filtro_longitud_5 = lambda x: len(x) > 5\n",
    "list(filter(filtro_longitud_5, lista))"
   ]
  },
  {
   "cell_type": "code",
   "execution_count": 73,
   "metadata": {},
   "outputs": [
    {
     "data": {
      "text/plain": [
       "['prueba', 'filtrar', 'longitud']"
      ]
     },
     "execution_count": 73,
     "metadata": {},
     "output_type": "execute_result"
    }
   ],
   "source": [
    "'''\n",
    "filtra las cadenas de la lista que tengan una longitud mayor al número indicado en el argumento\n",
    "'''\n",
    "filtro_longitud = lambda x, longitud: len(x) > longitud\n",
    "list(filter(lambda x: filtro_longitud(x, 5), lista))"
   ]
  },
  {
   "cell_type": "markdown",
   "metadata": {},
   "source": [
    "### map"
   ]
  },
  {
   "cell_type": "code",
   "execution_count": 78,
   "metadata": {},
   "outputs": [
    {
     "data": {
      "text/plain": [
       "[11, 22, 33, 44, 55, 66, 77, 88]"
      ]
     },
     "execution_count": 78,
     "metadata": {},
     "output_type": "execute_result"
    }
   ],
   "source": [
    "'''\n",
    "map (función, iterable1, iterable2, ... ) => iterable\n",
    "'''\n",
    "enteros = [1,2,3,4,5,6,8]\n",
    "# Suma 10 a cada elemento de la lista\n",
    "suma_10 = lambda x: x + 10\n",
    "list(map(suma_10, enteros))\n",
    "\n",
    "# Aplicar el map utilizandos iterables\n",
    "suma_valores = lambda x, y: x + y\n",
    "list(map(suma_valores, [1,2,3,4,5,6], [10,20,30,40,50,60]))\n",
    "\n",
    "\n",
    "# Si los iterables no tienen la misma longitud, se detiene cuando el más corto se acaba\n",
    "suma_valores = lambda x, y: x + y\n",
    "list(map(suma_valores, [1,2,3,4,5,6,7,8], [10,20,30,40,50,60, 70, 80, 90, 100]))"
   ]
  },
  {
   "cell_type": "code",
   "execution_count": 79,
   "metadata": {},
   "outputs": [
    {
     "data": {
      "text/plain": [
       "['Hola Juan',\n",
       " 'Hola Pedro',\n",
       " 'Hola Maria',\n",
       " 'Hola Juana',\n",
       " 'Hola Jorge',\n",
       " 'Hola Pablo',\n",
       " 'Hola Clara',\n",
       " 'Hola Bea',\n",
       " 'Hola Pilar']"
      ]
     },
     "execution_count": 79,
     "metadata": {},
     "output_type": "execute_result"
    }
   ],
   "source": [
    "'''\n",
    "Crea un función que reciba una lista de nombres y añada 'Hola' seguido de cada nombre.\n",
    "'''\n",
    "saludar = lambda nombre: 'Hola ' + nombre\n",
    "personas = ['Juan', 'Pedro', 'Maria', 'Juana', 'Jorge', 'Pablo', 'Clara', 'Bea', 'Pilar']\n",
    "\n",
    "list(map(saludar, personas))"
   ]
  },
  {
   "cell_type": "code",
   "execution_count": 80,
   "metadata": {},
   "outputs": [
    {
     "data": {
      "text/plain": [
       "[1, 2, 3, 4, 5, 6, 7, 8, 9]"
      ]
     },
     "execution_count": 80,
     "metadata": {},
     "output_type": "execute_result"
    }
   ],
   "source": [
    "'''\n",
    "Crea una función que reciba una lista de valores decimales y que devuelva una lista con los valores convertidos a enteros.\n",
    "'''\n",
    "lista_decimales = [1.1, 2.2, 3.3, 4.4, 5.5, 6.6, 7.7, 8.8, 9.9]\n",
    "to_int = lambda x: int(x)\n",
    "list(map(to_int, lista_decimales))"
   ]
  },
  {
   "cell_type": "markdown",
   "metadata": {},
   "source": [
    "### zip"
   ]
  },
  {
   "cell_type": "code",
   "execution_count": 85,
   "metadata": {},
   "outputs": [
    {
     "data": {
      "text/plain": [
       "[11, 22, 33, 44, 55, 66, 77, 88, 99]"
      ]
     },
     "execution_count": 85,
     "metadata": {},
     "output_type": "execute_result"
    }
   ],
   "source": [
    "'''\n",
    "zip (iterable1, iterable2, ...) => iterable\n",
    "'''\n",
    "iterable = zip([1,2,3,4,5,6,7,8,9], [10,20,30,40,50,60,70,80,90,123,45])\n",
    "suma_valores = lambda x: x[0] + x[1]\n",
    "list(map(suma_valores, iterable ))\n"
   ]
  },
  {
   "cell_type": "code",
   "execution_count": 94,
   "metadata": {},
   "outputs": [
    {
     "data": {
      "text/plain": [
       "[(1, 10),\n",
       " (2, 20),\n",
       " (3, 30),\n",
       " (4, 40),\n",
       " (5, 50),\n",
       " (6, 60),\n",
       " (7, 70),\n",
       " (8, 80),\n",
       " (9, 90)]"
      ]
     },
     "execution_count": 94,
     "metadata": {},
     "output_type": "execute_result"
    }
   ],
   "source": [
    "iterable = zip([1,2,3,4,5,6,7,8,9,10], [10,20,30,40,50,60,70,80,90])\n",
    "imprime_valores = lambda x: x # -> None\n",
    "list(map(imprime_valores, iterable))"
   ]
  },
  {
   "cell_type": "code",
   "execution_count": 97,
   "metadata": {},
   "outputs": [
    {
     "data": {
      "text/plain": [
       "[{'nombre': 'Juan', 'apellido': 'Perez', 'nacimiento': 2017},\n",
       " {'nombre': 'Pedro', 'apellido': 'Gomez', 'nacimiento': 2018},\n",
       " {'nombre': 'Maria', 'apellido': 'Lopez', 'nacimiento': 1980},\n",
       " {'nombre': 'Juana', 'apellido': 'Martinez', 'nacimiento': 1995},\n",
       " {'nombre': 'Jorge', 'apellido': 'Garcia', 'nacimiento': 1985},\n",
       " {'nombre': 'Pablo', 'apellido': 'Rodriguez', 'nacimiento': 1990},\n",
       " {'nombre': 'Clara', 'apellido': 'Fernandez', 'nacimiento': 1995},\n",
       " {'nombre': 'Bea', 'apellido': 'Gonzalez', 'nacimiento': 2019},\n",
       " {'nombre': 'Pilar', 'apellido': 'Sanchez', 'nacimiento': 2010}]"
      ]
     },
     "execution_count": 97,
     "metadata": {},
     "output_type": "execute_result"
    }
   ],
   "source": [
    "# Vamos a unir nombre y apellidos\n",
    "nombres = ['Juan', 'Pedro', 'Maria', 'Juana', 'Jorge', 'Pablo', 'Clara', 'Bea', 'Pilar']\n",
    "apellidos = ['Perez', 'Gomez', 'Lopez', 'Martinez', 'Garcia', 'Rodriguez', 'Fernandez', 'Gonzalez', 'Sanchez']\n",
    "año_de_nacimiento = [2017, 2018, 1980, 1995, 1985, 1990, 1995, 2019, 2010]\n",
    "\n",
    "crear_entrada = lambda persona: {'nombre': persona[0], 'apellido': persona[1], 'nacimiento': persona[2]}\n",
    "\n",
    "list(map(crear_entrada,zip(nombres, apellidos, año_de_nacimiento)))"
   ]
  },
  {
   "cell_type": "markdown",
   "metadata": {},
   "source": [
    "### reduce"
   ]
  },
  {
   "cell_type": "code",
   "execution_count": 104,
   "metadata": {},
   "outputs": [
    {
     "name": "stdout",
     "output_type": "stream",
     "text": [
      "12\n"
     ]
    }
   ],
   "source": [
    "from functools import reduce\n",
    "\n",
    "# La función reduce lo que hace es aplicar una función a un iterable y devolver un único valor. \n",
    "# La función reduce recibe como argumentos una función y un iterable.\n",
    "\n",
    "'''\n",
    "reduce (función, iterable) => valor\n",
    "'''\n",
    "\n",
    "suma = lambda x, y: x + y \n",
    "print(reduce(suma, [1,2,3], 6))\n",
    "\n"
   ]
  },
  {
   "cell_type": "code",
   "execution_count": 106,
   "metadata": {},
   "outputs": [
    {
     "name": "stdout",
     "output_type": "stream",
     "text": [
      "100\n"
     ]
    }
   ],
   "source": [
    "from functools import reduce\n",
    "'''\n",
    "Dada una lista de numeros, devuelve el valor del numero mayor. Utilizando reduce\n",
    "'''\n",
    "lista_numeros = [53,23,56,12,98,34,34,23]\n",
    "\n",
    "elemento_mayor = lambda x, y: x if x > y else y\n",
    "\n",
    "max_value = reduce(elemento_mayor, lista_numeros, 0)\n",
    "print(max_value)\n"
   ]
  },
  {
   "cell_type": "code",
   "execution_count": 110,
   "metadata": {},
   "outputs": [
    {
     "name": "stdout",
     "output_type": "stream",
     "text": [
      "True\n"
     ]
    }
   ],
   "source": [
    "from functools import reduce\n",
    "'''\n",
    "dado un array de booleanos, comprueba si todos los elementos son true\n",
    "'''\n",
    "booleanos = [True, True, True, True, True,True, True, True]\n",
    "ambos_true = lambda x, y: x and y\n",
    "\n",
    "todos_son_true = reduce(ambos_true, booleanos, True)\n",
    "print(todos_son_true)"
   ]
  },
  {
   "cell_type": "code",
   "execution_count": 114,
   "metadata": {},
   "outputs": [
    {
     "name": "stdout",
     "output_type": "stream",
     "text": [
      "55\n",
      "55\n",
      "5\n",
      "5\n"
     ]
    }
   ],
   "source": [
    "'''\n",
    "suma el valor de todos los elementos de una lista\n",
    "'''\n",
    "# Enfoque imperativo\n",
    "lista_numeros = [1,2,3,4,5,6,7,8,9,10]\n",
    "acumulador = 0\n",
    "for elemento in lista_numeros:\n",
    "    acumulador += elemento\n",
    "print(acumulador)\n",
    "\n",
    "# Enfoque funcional\n",
    "lista_numeros = [1,2,3,4,5,6,7,8,9,10]\n",
    "print(reduce(lambda x, y: x + y, lista_numeros, 0))\n",
    "\n",
    "\n",
    "'''\n",
    "Cuenta el número de elementos de un iterable que cumplan una condición.\n",
    "'''\n",
    "# Enfoque imperativo\n",
    "lista_numeros = [1,2,3,4,5,6,7,8,9,10]\n",
    "contador = 0\n",
    "for elemento in lista_numeros:\n",
    "    if elemento % 2 == 0:\n",
    "        contador += 1\n",
    "print(contador)\n",
    "\n",
    "# Enfoque funcional\n",
    "lista_numeros = [1,2,3,4,5,6,7,8,9,10]\n",
    "print(reduce(lambda x, y: x + 1 if y % 2 == 0 else x, lista_numeros, 0))\n",
    "\n",
    "\n"
   ]
  },
  {
   "cell_type": "markdown",
   "metadata": {},
   "source": [
    "### partial"
   ]
  },
  {
   "cell_type": "code",
   "execution_count": 136,
   "metadata": {},
   "outputs": [
    {
     "data": {
      "text/plain": [
       "[11, 4, 13, 6, 15, 8, 17, 10, 19, 12]"
      ]
     },
     "execution_count": 136,
     "metadata": {},
     "output_type": "execute_result"
    }
   ],
   "source": [
    "from functools import partial\n",
    "# La funcion partial se utiliza para crear una nueva función a partir de una función existente.\n",
    "suma = lambda x, y: x + y\n",
    "suma_2 = partial(suma, 2)\n",
    "suma_10 = partial(suma, 10)\n",
    "\n",
    "\n",
    "suma(5,6)\n",
    "suma_2(20)\n",
    "suma_10(20)\n",
    "\n",
    "lista_numeros = [1,2,3,4,5,6,7,8,9,10]\n",
    "list(map(lambda x: suma_2(x) if x % 2 == 0 else suma_10(x), lista_numeros))\n",
    "\n",
    "\n",
    "prueba = lambda x: partial(suma, x * 2)\n",
    "prueba(5)(20)\n",
    "# Primer paso\n",
    "#lambda 5: partial(suma, 5 * 2)\n",
    "# Segundo paso\n",
    "# suma(5 * 2, 20)\n",
    "# total = 30 \n"
   ]
  },
  {
   "cell_type": "code",
   "execution_count": 139,
   "metadata": {},
   "outputs": [
    {
     "data": {
      "text/plain": [
       "11"
      ]
     },
     "execution_count": 139,
     "metadata": {},
     "output_type": "execute_result"
    }
   ],
   "source": [
    "suma_de_3 = lambda x,y,z : x * 2 + y * 3 + z\n",
    "nueva_suma = partial(suma_de_3, 1)\n",
    "nueva_suma(2,3)"
   ]
  },
  {
   "cell_type": "markdown",
   "metadata": {},
   "source": [
    "## Ejemplos:"
   ]
  },
  {
   "cell_type": "code",
   "execution_count": 147,
   "metadata": {},
   "outputs": [
    {
     "data": {
      "text/plain": [
       "['HOLA', 'QUE', 'TAL', 'ESTAS', 'HOY']"
      ]
     },
     "execution_count": 147,
     "metadata": {},
     "output_type": "execute_result"
    }
   ],
   "source": [
    "# 1. Data una lista de cadenas obtener una lista de cadenas en mayúsculas\n",
    "lista_de_palabras = ['hola', 'que', 'tal', 'estas', 'hoy']\n",
    "# Imaginemos que no existe la función upper para cadenas\n",
    "a_mayusculas = lambda letra: letra.upper()\n",
    "cadena_a_mayusculas = lambda palabra: ''.join(list(map(a_mayusculas, palabra)))\n",
    "list(map(cadena_a_mayusculas, lista_de_palabras))\n",
    "\n",
    "\n",
    "# sin guardar parcialmente la función\n",
    "list(map(lambda palabra: ''.join(list(map(lambda letra: letra.upper(), palabra))), lista_de_palabras))\n",
    "\n",
    "\n",
    "# Utilizando la el metodo upper de las cadenas\n",
    "list(map(lambda palabra: palabra.upper(), lista_de_palabras))\n"
   ]
  },
  {
   "cell_type": "code",
   "execution_count": 151,
   "metadata": {},
   "outputs": [
    {
     "data": {
      "text/plain": [
       "['Juan', 'Maria', 'Jorge']"
      ]
     },
     "execution_count": 151,
     "metadata": {},
     "output_type": "execute_result"
    }
   ],
   "source": [
    "# 2. Dada una lista de alumnos con sus calificaciones, obtener una lista con el nombre de los que han obtenido una \n",
    "# calificación media mayor a 7\n",
    "alumnos = [ {\n",
    "    'nombre': 'Juan',\n",
    "    'calificaciones': [10, 9, 6] # promedio: 7.5\n",
    "    },\n",
    "    {\n",
    "    'nombre': 'Pedro',\n",
    "    'calificaciones': [8, 7, 5] # promedio: 6.5\n",
    "    },\n",
    "    {\n",
    "    'nombre': 'Maria',\n",
    "    'calificaciones': [9, 8, 7] # promedio: 8.0\n",
    "    },\n",
    "    {\n",
    "    'nombre': 'Juana',\n",
    "    'calificaciones': [3,6,4] # promedio: 5.0\n",
    "    },\n",
    "    {\n",
    "    'nombre': 'Jorge',\n",
    "    'calificaciones': [10, 10, 10] # promedio: 10.0\n",
    "    },\n",
    "    {\n",
    "    'nombre': 'Pablo',\n",
    "    'calificaciones': [2, 0, 1] # promedio: 1.0\n",
    "    },\n",
    "    {\n",
    "    'nombre': 'Pilar',\n",
    "    'calificaciones': [5,6,6] # promedio: 5.6\n",
    "    }]\n",
    "\n",
    "promedio_calificaciones = lambda calificaciones: reduce(lambda x, y: x + y, calificaciones) / len(calificaciones)\n",
    "promedio_calificaciones([5,6,6])\n",
    "\n",
    "list(map(lambda alumno: alumno['nombre'],filter(lambda alumno: promedio_calificaciones(alumno['calificaciones']) > 7,  alumnos)))\n"
   ]
  },
  {
   "cell_type": "code",
   "execution_count": 157,
   "metadata": {},
   "outputs": [
    {
     "data": {
      "text/plain": [
       "['rajar', 'radar', 'oro']"
      ]
     },
     "execution_count": 157,
     "metadata": {},
     "output_type": "execute_result"
    }
   ],
   "source": [
    "# 3. Dada una lista de palabras, obtener una lista con las palabras que son palíndromos\n",
    "# palíndromo: una palabra que se lee de izquierda a derecha igual que de derecha a izquierda\n",
    "\n",
    "palabras = ['rajar', 'amar', 'radar', 'salar', 'alada', 'oro', 'arar']\n",
    "cadena = 'esto es una cadena'\n",
    "#dar la vuelta a una cadena\n",
    "cadena[::-1]\n",
    "list(filter(lambda palabra: palabra == palabra[::-1], palabras))\n"
   ]
  },
  {
   "cell_type": "code",
   "execution_count": 161,
   "metadata": {},
   "outputs": [
    {
     "data": {
      "text/plain": [
       "[1, 4, 9, 16, 25]"
      ]
     },
     "execution_count": 161,
     "metadata": {},
     "output_type": "execute_result"
    }
   ],
   "source": [
    "# 4. Define una función que dado un valor gere tantos numero elevados al cuadrado como el valor que se le pasa\n",
    "lista_de_valores = range(1, 10)\n",
    "list(lista_de_valores)\n",
    "\n",
    "cuadrados = lambda x: map(lambda y: y ** 2, range(1,x+1))\n",
    "list(cuadrados(5))"
   ]
  },
  {
   "cell_type": "code",
   "execution_count": 163,
   "metadata": {},
   "outputs": [
    {
     "data": {
      "text/plain": [
       "['estás', 'prueba']"
      ]
     },
     "execution_count": 163,
     "metadata": {},
     "output_type": "execute_result"
    }
   ],
   "source": [
    "# 5. Define una funcion que retorne las palabra de una lista con una longitud mayor o igual a 5\n",
    "lista_de_palabras = ['hola', 'que', 'tal', 'estás', 'hoy', 'esto', 'es', 'una', 'prueba']\n",
    "list(filter(lambda palabra: len(palabra) >= 5, lista_de_palabras))\n"
   ]
  },
  {
   "cell_type": "code",
   "execution_count": 170,
   "metadata": {},
   "outputs": [
    {
     "data": {
      "text/plain": [
       "['estás', 'esto', 'es', 'adios']"
      ]
     },
     "execution_count": 170,
     "metadata": {},
     "output_type": "execute_result"
    }
   ],
   "source": [
    "# 6. Define una función que retorne las palabras de una lista que contengan una letra dada\n",
    "lista_de_palabras = ['hola', 'que', 'tal', 'estás', 'hoy', 'esto', 'es', 'una', 'prueba']\n",
    "\n",
    "contiene_letra = lambda letra, lista: list(filter(lambda palbra: letra in palbra, lista))\n",
    "lista_de_palabras.append('adios')\n",
    "contiene_letra('s', lista_de_palabras)"
   ]
  },
  {
   "cell_type": "code",
   "execution_count": 176,
   "metadata": {},
   "outputs": [
    {
     "name": "stdout",
     "output_type": "stream",
     "text": [
      "Esto|es|un|texto|de|prueba.|Este|texto|es|una|prueba\n",
      "|Esto|es|un|texto|de|prueba.|Este|texto|es|una|prueba\n"
     ]
    }
   ],
   "source": [
    "from functools import reduce\n",
    "# 7. Define una función que dada una lista de palabras concatene todas con un '|' mediante reduce\n",
    "\n",
    "texto = 'Esto es un texto de prueba. Este texto es una prueba'\n",
    "print(texto.replace(' ', '|'))\n",
    "\n",
    "print(reduce(lambda palabra1, palabra2: palabra1 + '|' + palabra2, texto.split(' '), ''))\n"
   ]
  },
  {
   "cell_type": "markdown",
   "metadata": {},
   "source": [
    "### Ejemplo \"real\" con lo que hemos visto"
   ]
  },
  {
   "cell_type": "code",
   "execution_count": 201,
   "metadata": {},
   "outputs": [
    {
     "name": "stdout",
     "output_type": "stream",
     "text": [
      "  VIA_CLASE VIA_PAR VIA_NOMBRE_ACENTOS\n",
      "0    PASAJE                          A\n",
      "1   AUTOVÍA                        A-1\n",
      "2   AUTOVÍA                        A-2\n",
      "3   AUTOVÍA                        A-3\n",
      "4   AUTOVÍA                        A-4\n",
      "(pasaje|autovía|calle|carretera|avenida|ronda|paseo|camino|plaza|aeropuerto|puente|travesía|glorieta|plazuela|callejón|costanilla|pista|jardín|arroyo|cuesta|particular|acceso|paso elevado|polígono|poblado de absorción|trasera|bulevar|escalinata|colonia|senda|pasadizo|autopista|cañada|carrera|galería)\\s+(|del|de la|de los|de|de las|a la|al)?\n"
     ]
    }
   ],
   "source": [
    "import pandas as pd\n",
    "\n",
    "\n",
    "df = pd.read_csv('./madrid.csv', encoding='latin-1', usecols=['VIA_CLASE', 'VIA_PAR', 'VIA_NOMBRE_ACENTOS'], sep=';')\n",
    "df.fillna('', inplace=True)\n",
    "print(df.head(5))\n",
    "\n",
    "minusculas = lambda x: x.lower()\n",
    "\n",
    "tipos_de_via = df['VIA_CLASE'].unique()\n",
    "tipos_de_via_par = df['VIA_PAR'].unique()\n",
    "concatenar_elementos = lambda x,y: x + '|' + y\n",
    "\n",
    "tipos_via_procesado = reduce(concatenar_elementos,map(minusculas, tipos_de_via))\n",
    "tipos_via_par_procesado = reduce(concatenar_elementos,map(minusculas, tipos_de_via_par))\n",
    "\n",
    "regex = rf'({tipos_via_procesado})\\s+({tipos_via_par_procesado})?'\n",
    "print(regex)\n"
   ]
  },
  {
   "cell_type": "markdown",
   "metadata": {},
   "source": [
    "Ejemplo 2:"
   ]
  },
  {
   "cell_type": "code",
   "execution_count": 230,
   "metadata": {},
   "outputs": [
    {
     "data": {
      "text/plain": [
       "['hola', 'cajon', 'bajon', 'balon']"
      ]
     },
     "execution_count": 230,
     "metadata": {},
     "output_type": "execute_result"
    }
   ],
   "source": [
    "'''\n",
    " -----------------------\n",
    "|       |       |       |\n",
    "|   1   |   2   |   3   |\n",
    "| a b c | d e f | g h i |\n",
    " -----------------------\n",
    "|       |       |       |\n",
    "|   4   |   5   |   6   |\n",
    "| j k l | m n o | p q r |\n",
    " -----------------------\n",
    "|       |       |       |\n",
    "|   7   |   8   |   9   |\n",
    "| s t u | v w x | y z   |\n",
    " -----------------------\n",
    "\n",
    "ejemplo: \n",
    "  3541 => hola\n",
    "  57725 => mundo\n",
    "  11455 => cajón, bajón, balón\n",
    "Definir una función que dado un número, devuelva una lista con las palabras que se pueden escribir en ese número\n",
    "'''\n",
    "teclado = { 'abc': 1, 'def': 2, 'ghi': 3, 'jkl': 4, 'mno': 5, 'pqr': 6, 'stu': 7, 'vwx': 8, 'yz': 9 }\n",
    "\n",
    "valores = ['hola', 'mundo', 'cajon', 'bajon', 'balon', 'melon']\n",
    "\n",
    "get_value = lambda key: teclado[key]\n",
    "letra_a_numero = lambda letra: get_value([keys for keys in teclado.keys() if letra in keys][0]) # ['yz']\n",
    "palabra_a_numero = lambda palabra: ''.join(map(str, map(letra_a_numero, palabra)))\n",
    "esta_contenida = lambda valores, palabra: str(palabra_a_numero(palabra)) in str(valores)\n",
    "palabras_contenidas = lambda numero, palabras: [ palabra for palabra in palabras if palabra_a_numero(palabra) in str(numero) ]\n",
    "\n",
    "palabras_contenidas(35411455, valores)"
   ]
  },
  {
   "cell_type": "code",
   "execution_count": null,
   "metadata": {},
   "outputs": [],
   "source": []
  }
 ],
 "metadata": {
  "interpreter": {
   "hash": "916dbcbb3f70747c44a77c7bcd40155683ae19c65e1c03b4aa3499c5328201f1"
  },
  "kernelspec": {
   "display_name": "Python 3 (ipykernel)",
   "language": "python",
   "name": "python3"
  },
  "language_info": {
   "codemirror_mode": {
    "name": "ipython",
    "version": 3
   },
   "file_extension": ".py",
   "mimetype": "text/x-python",
   "name": "python",
   "nbconvert_exporter": "python",
   "pygments_lexer": "ipython3",
   "version": "3.8.10"
  }
 },
 "nbformat": 4,
 "nbformat_minor": 2
}
