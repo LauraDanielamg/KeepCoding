{
 "cells": [
  {
   "cell_type": "markdown",
   "metadata": {},
   "source": [
    "# Python numpy"
   ]
  },
  {
   "cell_type": "code",
   "execution_count": 3,
   "metadata": {},
   "outputs": [
    {
     "ename": "ModuleNotFoundError",
     "evalue": "No module named 'numpy'",
     "output_type": "error",
     "traceback": [
      "\u001b[0;31m---------------------------------------------------------------------------\u001b[0m",
      "\u001b[0;31mModuleNotFoundError\u001b[0m                       Traceback (most recent call last)",
      "Cell \u001b[0;32mIn [3], line 5\u001b[0m\n\u001b[1;32m      1\u001b[0m \u001b[39m'''\u001b[39;00m\n\u001b[1;32m      2\u001b[0m \u001b[39mLo primero es comprobar que tenemos instalado nmumpy y que lo podemos importar correctamente.\u001b[39;00m\n\u001b[1;32m      3\u001b[0m \u001b[39mLa ejecución de este bloque de código nos debe mostrar el array [1,2,3,4,5]\u001b[39;00m\n\u001b[1;32m      4\u001b[0m \u001b[39m'''\u001b[39;00m\n\u001b[0;32m----> 5\u001b[0m \u001b[39mimport\u001b[39;00m \u001b[39mnumpy\u001b[39;00m \u001b[39mas\u001b[39;00m \u001b[39mnp\u001b[39;00m\n\u001b[1;32m      7\u001b[0m \u001b[39m# Definición de un nuevo 'ndarray', de ahora en adelante lo llamaremos simplemente 'array'\u001b[39;00m\n\u001b[1;32m      8\u001b[0m test \u001b[39m=\u001b[39m np\u001b[39m.\u001b[39marray([\u001b[39m1\u001b[39m, \u001b[39m2\u001b[39m, \u001b[39m3\u001b[39m, \u001b[39m4\u001b[39m, \u001b[39m5\u001b[39m])\n",
      "\u001b[0;31mModuleNotFoundError\u001b[0m: No module named 'numpy'"
     ]
    }
   ],
   "source": [
    "'''\n",
    "Lo primero es comprobar que tenemos instalado nmumpy y que lo podemos importar correctamente.\n",
    "La ejecución de este bloque de código nos debe mostrar el array [1,2,3,4,5]\n",
    "'''\n",
    "import numpy as np\n",
    "\n",
    "# Definición de un nuevo 'ndarray', de ahora en adelante lo llamaremos simplemente 'array'\n",
    "test = np.array([1, 2, 3, 4, 5])\n",
    "print(test)\n"
   ]
  },
  {
   "cell_type": "markdown",
   "metadata": {},
   "source": [
    "### Primeros pasos"
   ]
  },
  {
   "cell_type": "code",
   "execution_count": 4,
   "metadata": {},
   "outputs": [
    {
     "name": "stdout",
     "output_type": "stream",
     "text": [
      "[1 2 3 4 5]\n"
     ]
    }
   ],
   "source": [
    "# Para inicar un array de nunpy llamamos al a funcion np.array()\n",
    "a = np.array([1, 2, 3, 4, 5])\n",
    "print(a)"
   ]
  },
  {
   "cell_type": "code",
   "execution_count": 6,
   "metadata": {},
   "outputs": [
    {
     "data": {
      "text/plain": [
       "array([[1, 2, 3],\n",
       "       [4, 5, 6]])"
      ]
     },
     "execution_count": 6,
     "metadata": {},
     "output_type": "execute_result"
    }
   ],
   "source": [
    "# Para inicializar un array de dim 2 podemos pasar una lista de listas\n",
    "b = np.array( [[1, 2, 3], [4, 5, 6]]  )\n",
    "b"
   ]
  },
  {
   "cell_type": "code",
   "execution_count": 7,
   "metadata": {},
   "outputs": [
    {
     "data": {
      "text/plain": [
       "array([[[1, 2, 3],\n",
       "        [4, 5, 6]],\n",
       "\n",
       "       [[1, 2, 3],\n",
       "        [4, 5, 6]]])"
      ]
     },
     "execution_count": 7,
     "metadata": {},
     "output_type": "execute_result"
    }
   ],
   "source": [
    "# Podemos anidar mas listas para crear arrays de dim 3 o mas\n",
    "c = np.array( [\n",
    "    [\n",
    "        [1, 2, 3], [4, 5, 6]\n",
    "    ],\n",
    "    [\n",
    "        [1, 2, 3], [4, 5, 6]\n",
    "    ]\n",
    "    ] )\n",
    "c"
   ]
  },
  {
   "cell_type": "code",
   "execution_count": 9,
   "metadata": {},
   "outputs": [
    {
     "data": {
      "text/plain": [
       "1"
      ]
     },
     "execution_count": 9,
     "metadata": {},
     "output_type": "execute_result"
    }
   ],
   "source": [
    "# Obtener la dimensión de un array\n",
    "a.ndim"
   ]
  },
  {
   "cell_type": "code",
   "execution_count": 10,
   "metadata": {},
   "outputs": [
    {
     "data": {
      "text/plain": [
       "2"
      ]
     },
     "execution_count": 10,
     "metadata": {},
     "output_type": "execute_result"
    }
   ],
   "source": [
    "'''\n",
    "Obeter la dimension del array b\n",
    "'''\n",
    "b.ndim"
   ]
  },
  {
   "cell_type": "code",
   "execution_count": 25,
   "metadata": {},
   "outputs": [
    {
     "data": {
      "text/plain": [
       "3"
      ]
     },
     "execution_count": 25,
     "metadata": {},
     "output_type": "execute_result"
    }
   ],
   "source": [
    "'''\n",
    "Obtener la dimension del array c\n",
    "'''\n",
    "c.ndim"
   ]
  },
  {
   "cell_type": "code",
   "execution_count": 18,
   "metadata": {},
   "outputs": [
    {
     "name": "stdout",
     "output_type": "stream",
     "text": [
      "[[[1 4 7]\n",
      "  [2 9 7]\n",
      "  [1 3 0]\n",
      "  [9 6 9]]\n",
      "\n",
      " [[2 3 4]\n",
      "  [4 5 5]\n",
      "  [1 2 2]\n",
      "  [9 3 8]]]\n",
      "3\n"
     ]
    }
   ],
   "source": [
    "# vamos a crea un array de 3 dimensiones\n",
    "d = np.array(\n",
    "    [[[1,4,7],[2,9,7],[1,3,0],[9,6,9]],\n",
    "    [[2,3,4],[4,5,5], [1,2,2],[9,3,8]]]\n",
    ")\n",
    "print(d)\n",
    "print(d.ndim)"
   ]
  },
  {
   "cell_type": "code",
   "execution_count": 21,
   "metadata": {},
   "outputs": [
    {
     "name": "stdout",
     "output_type": "stream",
     "text": [
      "[1 2 3 4 5]\n",
      "(5,)\n"
     ]
    }
   ],
   "source": [
    "# El shape de un array es una tupla que indica el tamaño de cada dimensión\n",
    "print(a)\n",
    "print(a.shape)"
   ]
  },
  {
   "cell_type": "code",
   "execution_count": 22,
   "metadata": {},
   "outputs": [
    {
     "name": "stdout",
     "output_type": "stream",
     "text": [
      "[[1 2 3]\n",
      " [4 5 6]]\n",
      "(2, 3)\n"
     ]
    }
   ],
   "source": [
    "print(b)\n",
    "print(b.shape)"
   ]
  },
  {
   "cell_type": "code",
   "execution_count": 24,
   "metadata": {},
   "outputs": [
    {
     "name": "stdout",
     "output_type": "stream",
     "text": [
      "[[[1 2 3]\n",
      "  [4 5 6]]\n",
      "\n",
      " [[1 2 3]\n",
      "  [4 5 6]]]\n",
      "(2, 2, 3)\n"
     ]
    }
   ],
   "source": [
    "print(c)\n",
    "print(c.shape)"
   ]
  },
  {
   "cell_type": "code",
   "execution_count": 27,
   "metadata": {},
   "outputs": [
    {
     "name": "stdout",
     "output_type": "stream",
     "text": [
      "[[[1 4 7]\n",
      "  [2 9 7]\n",
      "  [1 3 0]\n",
      "  [9 6 9]]\n",
      "\n",
      " [[2 3 4]\n",
      "  [4 5 5]\n",
      "  [1 2 2]\n",
      "  [9 3 8]]]\n",
      "(2, 4, 3)\n"
     ]
    }
   ],
   "source": [
    "print(d)\n",
    "print(d.shape)"
   ]
  },
  {
   "cell_type": "code",
   "execution_count": 28,
   "metadata": {},
   "outputs": [
    {
     "data": {
      "text/plain": [
       "dtype('int64')"
      ]
     },
     "execution_count": 28,
     "metadata": {},
     "output_type": "execute_result"
    }
   ],
   "source": [
    "# Obtener el tipo de dato de un array\n",
    "a.dtype"
   ]
  },
  {
   "cell_type": "code",
   "execution_count": 29,
   "metadata": {},
   "outputs": [],
   "source": [
    "# Representación de un byte en binario -> 1010\n",
    "\n",
    "# El tipo int16 puede representar un número entero de 16 bits (2 bytes)(-32.768 a 32.767)\n",
    "# El tipo int32 puede representar un número entero de 32 bits (4 bytes)(-2.147.483.648 a 2.147.483.647)\n",
    "# El tipo int64 puede representar un número entero de 64 bits (8 bytes)(-9.223.372.036.854.775.808 a 92.23.372.036.854.775.807)\n",
    "\n",
    "#El tipo float32 puede representar un número real de 32 bits (4 bytes)(-3.4028235e+38 a 3.4028235e+38)\n",
    "#El tipo float64 puede representar un número real de 64 bits (8 bytes)(-1.7976931348623157e+308 a 1.7976931348623157e+308)"
   ]
  },
  {
   "cell_type": "code",
   "execution_count": 31,
   "metadata": {},
   "outputs": [
    {
     "name": "stdout",
     "output_type": "stream",
     "text": [
      "[[1 2 3]\n",
      " [4 5 6]]\n",
      "int16\n"
     ]
    }
   ],
   "source": [
    "''' \n",
    "Define un array de dim 2 y de tipo int16\n",
    "'''\n",
    "a16 = np.array([[1,2,3],[4,5,6]], dtype=np.int16)\n",
    "print(a16)\n",
    "print(a16.dtype)"
   ]
  },
  {
   "cell_type": "code",
   "execution_count": 34,
   "metadata": {},
   "outputs": [
    {
     "name": "stdout",
     "output_type": "stream",
     "text": [
      "[[    1     2     3]\n",
      " [    4     5 64000]]\n"
     ]
    }
   ],
   "source": [
    "# El  tipo de dato no es capaz de manejar valores fuera de su rango (32.768) por lo que se produce un overflow \n",
    "# e introduce basura\n",
    "b16 = np.array([[1,2,3],[4,5,64000]], dtype=np.int16)\n",
    "print(b16)"
   ]
  },
  {
   "cell_type": "code",
   "execution_count": 40,
   "metadata": {},
   "outputs": [
    {
     "name": "stdout",
     "output_type": "stream",
     "text": [
      "int16\n",
      "[[1 2 3]\n",
      " [4 5 6]]\n",
      "int32\n",
      "[[1 2 3]\n",
      " [4 5 6]]\n"
     ]
    }
   ],
   "source": [
    "# Redefinir el tipo de un array\n",
    "'''\n",
    "convertir el array a16 a tipo int32\n",
    "'''\n",
    "a32 = a16.astype(np.int32)\n",
    "print(a16.dtype)\n",
    "print(a16)\n",
    "print(a32.dtype)\n",
    "print(a32)"
   ]
  },
  {
   "cell_type": "code",
   "execution_count": 50,
   "metadata": {},
   "outputs": [
    {
     "name": "stdout",
     "output_type": "stream",
     "text": [
      "Array a16\n",
      " [[1 2 3]\n",
      " [4 5 6]]\n",
      "\n",
      "Elementos array a16: 6\n",
      "Tamaño de cada elemento del array a16: 2 bytes\n",
      "Tamaño total del array a16: 12 bytes\n"
     ]
    }
   ],
   "source": [
    "# Saber cuanto ocupa en memoria un array\n",
    "# utilizando el array de ejemplo anterior a16\n",
    "'''\n",
    "obterner cuanto ocupa en memoria un elemento del array a16\n",
    "'''\n",
    "print(\"Array a16\\n\",a16)\n",
    "print(\"\")\n",
    "\n",
    "# numero de elemento que tiene el array\n",
    "print('Elementos array a16:', a16.size)\n",
    "print('Tamaño de cada elemento del array a16:', a16.itemsize, 'bytes')\n",
    "print('Tamaño total del array a16:', a16.size * a16.itemsize, 'bytes')\n"
   ]
  },
  {
   "cell_type": "code",
   "execution_count": 51,
   "metadata": {},
   "outputs": [
    {
     "name": "stdout",
     "output_type": "stream",
     "text": [
      "Array a32\n",
      " [[1 2 3]\n",
      " [4 5 6]]\n",
      "\n",
      "Elementos array a32: 6\n",
      "Tamaño de cada elemento del array a32: 4 bytes\n",
      "Tamaño total del array a32: 24 bytes\n"
     ]
    }
   ],
   "source": [
    "# Saber cuanto ocupa en memoria un array\n",
    "# utilizando el array de ejemplo anterior a32\n",
    "'''\n",
    "obterner cuanto ocupa en memoria un elemento del array a32\n",
    "'''\n",
    "print(\"Array a32\\n\",a32)\n",
    "print(\"\")\n",
    "\n",
    "# numero de elemento que tiene el array\n",
    "print('Elementos array a32:', a32.size)\n",
    "print('Tamaño de cada elemento del array a32:', a32.itemsize, 'bytes')\n",
    "print('Tamaño total del array a32:', a32.size * a32.itemsize, 'bytes')"
   ]
  },
  {
   "cell_type": "code",
   "execution_count": 61,
   "metadata": {},
   "outputs": [
    {
     "name": "stdout",
     "output_type": "stream",
     "text": [
      "[10, 12, 14, 16, 18]\n"
     ]
    }
   ],
   "source": [
    "# Otra forma de inicializar un array (range)\n",
    "# Ejemplo de rage\n",
    "ejemplo1 = list(range(10, 20, 2))\n",
    "print(ejemplo1)\n",
    "\n",
    "# for i in range(10):\n",
    "#     print(i)"
   ]
  },
  {
   "cell_type": "code",
   "execution_count": 57,
   "metadata": {},
   "outputs": [
    {
     "name": "stdout",
     "output_type": "stream",
     "text": [
      "[0 1 2 3 4 5 6 7 8 9]\n"
     ]
    }
   ],
   "source": [
    "'''\n",
    "inicializar array con range. El array debe tener 10 elementos\n",
    "'''\n",
    "a = np.array(range(10))\n",
    "print(a)"
   ]
  },
  {
   "cell_type": "code",
   "execution_count": 58,
   "metadata": {},
   "outputs": [
    {
     "name": "stdout",
     "output_type": "stream",
     "text": [
      "[0 1 2 3 4 5 6 7 8 9]\n"
     ]
    }
   ],
   "source": [
    "'''\n",
    "Inicializa un array con arange. El array debe tener 10 elementos\n",
    "'''\n",
    "b = np.arange(10)\n",
    "print(b)\n"
   ]
  },
  {
   "cell_type": "code",
   "execution_count": 64,
   "metadata": {},
   "outputs": [
    {
     "name": "stdout",
     "output_type": "stream",
     "text": [
      "[10 12 14 16 18]\n"
     ]
    }
   ],
   "source": [
    "'''\n",
    "Inicializa un array con arange. desde 10 hasta 20 con paso 2\n",
    "'''\n",
    "c = np.arange(10,20,2)\n",
    "print(c)"
   ]
  },
  {
   "cell_type": "markdown",
   "metadata": {},
   "source": [
    "Ejercicios"
   ]
  },
  {
   "cell_type": "code",
   "execution_count": 68,
   "metadata": {},
   "outputs": [
    {
     "name": "stdout",
     "output_type": "stream",
     "text": [
      "[ 1  2  3  4  5  6  7  8  9 10]\n",
      "1\n",
      "(10,)\n"
     ]
    }
   ],
   "source": [
    "'''\n",
    "Define el array 'a' del 1 al 10\n",
    "'''\n",
    "a = np.arange(1,11)\n",
    "print(a)\n",
    "'''\n",
    "Imprime la dimension del array y el shape\n",
    "'''\n",
    "print(a.ndim)\n",
    "print(a.shape)\n",
    "\n"
   ]
  },
  {
   "cell_type": "code",
   "execution_count": 71,
   "metadata": {},
   "outputs": [
    {
     "name": "stdout",
     "output_type": "stream",
     "text": [
      "[[1 2 3]\n",
      " [4 5 6]]\n",
      "(2, 3)\n"
     ]
    }
   ],
   "source": [
    "''' \n",
    "Define de un array 'b' de dimensiones 2x3 a partir de listas anidadas\n",
    "'''\n",
    "b = np.array([[1,2,3], [4,5,6]])\n",
    "print(b)\n",
    "print(b.shape)"
   ]
  },
  {
   "cell_type": "code",
   "execution_count": 73,
   "metadata": {},
   "outputs": [
    {
     "name": "stdout",
     "output_type": "stream",
     "text": [
      "12\n",
      "(2, 2, 3)\n"
     ]
    }
   ],
   "source": [
    "'''\n",
    "Define un array 'c'  de dim 2x2x3 a partir de una lista de listas anidadas \n",
    "'''\n",
    "\n",
    "c = np.array([\n",
    "    [[1,2,3],[4,5,6]]\n",
    "    ,[[7,8,9],[10,11,12]]\n",
    "    ])\n",
    "\n",
    "'''\n",
    "Imprime el número total de elementos del array y el shape\n",
    "'''\n",
    "print(c.size)\n",
    "print(c.shape)"
   ]
  },
  {
   "cell_type": "markdown",
   "metadata": {},
   "source": [
    "## Accediendo y Modificando elementos de un array"
   ]
  },
  {
   "cell_type": "code",
   "execution_count": 76,
   "metadata": {},
   "outputs": [
    {
     "name": "stdout",
     "output_type": "stream",
     "text": [
      "[[1 2 3 8 7]\n",
      " [4 5 6 2 9]]\n"
     ]
    }
   ],
   "source": [
    "# Array de 2x5\n",
    "f = np.array([[1,2,3,8,7],[4,5,6,2,9]])\n",
    "print(f)"
   ]
  },
  {
   "cell_type": "markdown",
   "metadata": {},
   "source": [
    "Obtener un elemento de un array"
   ]
  },
  {
   "cell_type": "code",
   "execution_count": 79,
   "metadata": {},
   "outputs": [
    {
     "name": "stdout",
     "output_type": "stream",
     "text": [
      "6\n",
      "8\n"
     ]
    }
   ],
   "source": [
    "# Obtener un elemento concreto de un array [rows,columns]\n",
    "# obtener el elemento 6 del array f\n",
    "print(f[1,2])\n",
    "\n",
    "# Obtener el elemento 8 del array f\n",
    "print(f[0,3])"
   ]
  },
  {
   "cell_type": "markdown",
   "metadata": {},
   "source": [
    "Obtener una fila completa de un array"
   ]
  },
  {
   "cell_type": "code",
   "execution_count": 82,
   "metadata": {},
   "outputs": [
    {
     "name": "stdout",
     "output_type": "stream",
     "text": [
      "[[1 2 3 8 7]\n",
      " [4 5 6 2 9]]\n"
     ]
    },
    {
     "data": {
      "text/plain": [
       "array([4, 5, 6, 2, 9])"
      ]
     },
     "execution_count": 82,
     "metadata": {},
     "output_type": "execute_result"
    }
   ],
   "source": [
    "# Para obtener una fila completa utilizamos la notación ':' como en la listas\n",
    "print(f)\n",
    "f[1,:]"
   ]
  },
  {
   "cell_type": "markdown",
   "metadata": {},
   "source": [
    "Obtener una columna completa de un array"
   ]
  },
  {
   "cell_type": "code",
   "execution_count": 86,
   "metadata": {},
   "outputs": [
    {
     "name": "stdout",
     "output_type": "stream",
     "text": [
      "[[1 2 3 8 7]\n",
      " [4 5 6 2 9]\n",
      " [1 2 3 8 7]\n",
      " [4 5 6 2 9]]\n"
     ]
    },
    {
     "data": {
      "text/plain": [
       "array([3, 6, 3, 6])"
      ]
     },
     "execution_count": 86,
     "metadata": {},
     "output_type": "execute_result"
    }
   ],
   "source": [
    "# define un array 'f' de dimensiones 4x5\n",
    "# Obtener la columna 3 de array f\n",
    "f = np.array([[1,2,3,8,7],[4,5,6,2,9],[1,2,3,8,7],[4,5,6,2,9]])\n",
    "print(f)\n",
    "f[:,2]"
   ]
  },
  {
   "cell_type": "markdown",
   "metadata": {},
   "source": [
    "Otras formas de acceder a los elementos de un array"
   ]
  },
  {
   "cell_type": "code",
   "execution_count": 88,
   "metadata": {},
   "outputs": [
    {
     "data": {
      "text/plain": [
       "array([2, 8])"
      ]
     },
     "execution_count": 88,
     "metadata": {},
     "output_type": "execute_result"
    }
   ],
   "source": [
    "# Para acceder de una forma un poco más avanzada se utiliza [inicio: final: paso]\n",
    "f[0,1:4:2]"
   ]
  },
  {
   "cell_type": "code",
   "execution_count": 89,
   "metadata": {},
   "outputs": [
    {
     "data": {
      "text/plain": [
       "array([[1, 2, 3, 8, 7],\n",
       "       [1, 2, 3, 8, 7]])"
      ]
     },
     "execution_count": 89,
     "metadata": {},
     "output_type": "execute_result"
    }
   ],
   "source": [
    "# Obtener la filas pares\n",
    "f[::2,:]\n"
   ]
  },
  {
   "cell_type": "code",
   "execution_count": 92,
   "metadata": {},
   "outputs": [
    {
     "name": "stdout",
     "output_type": "stream",
     "text": [
      "[[4 5 6 2 9]\n",
      " [1 2 3 8 7]\n",
      " [4 5 6 2 9]\n",
      " [1 2 3 8 7]]\n"
     ]
    }
   ],
   "source": [
    "# Recorrer el array con paso negativo\n",
    "f_invertido = f[::-1,:] # Invertir el array\n",
    "print(f_invertido)"
   ]
  },
  {
   "cell_type": "code",
   "execution_count": 17,
   "metadata": {},
   "outputs": [
    {
     "name": "stdout",
     "output_type": "stream",
     "text": [
      "[[[ 1  2]\n",
      "  [ 3  4]\n",
      "  [ 5  6]]\n",
      "\n",
      " [[ 7  8]\n",
      "  [ 9 10]\n",
      "  [11 12]]\n",
      "\n",
      " [[13 14]\n",
      "  [15 16]\n",
      "  [17 18]]]\n"
     ]
    },
    {
     "data": {
      "text/plain": [
       "(3, 3, 2)"
      ]
     },
     "execution_count": 17,
     "metadata": {},
     "output_type": "execute_result"
    }
   ],
   "source": [
    "# Definir un array de 3x3x2\n",
    "g = np.array([[[1,2],[3,4],[5,6]],[[7,8],[9,10],[11,12]],[[13,14],[15,16],[17,18]]])\n",
    "print(g)\n",
    "g.shape"
   ]
  },
  {
   "cell_type": "markdown",
   "metadata": {},
   "source": [
    "Actualizar un elemento de un array"
   ]
  },
  {
   "cell_type": "code",
   "execution_count": 105,
   "metadata": {},
   "outputs": [
    {
     "name": "stdout",
     "output_type": "stream",
     "text": [
      "[[[ 1  2  3]\n",
      "  [ 4  5  6]\n",
      "  [ 7  8  9]]\n",
      "\n",
      " [[10 20 30]\n",
      "  [40 50 60]\n",
      "  [70 80 90]]]\n",
      "\n",
      "[[[  1   2   3]\n",
      "  [  4   5   6]\n",
      "  [  7   8   9]]\n",
      "\n",
      " [[ 10  20  30]\n",
      "  [ 40 500  60]\n",
      "  [ 70  80  90]]]\n"
     ]
    }
   ],
   "source": [
    "# Podemos actualizar la información de un array igual que seleccionando un elemento e igulandolo con un nuevo valor\n",
    "h = np.array([[[1,2,3],[4,5,6],[7,8,9]],[[10,20,30],[40,50,60],[70,80,90]]])\n",
    "\n",
    "print(h)\n",
    "print()\n",
    "\n",
    "# establecer el elemento 50 a 500\n",
    "h[1,1,1] = 500\n",
    "print(h)"
   ]
  },
  {
   "cell_type": "code",
   "execution_count": 110,
   "metadata": {},
   "outputs": [
    {
     "name": "stdout",
     "output_type": "stream",
     "text": [
      "[[[ 1  2  3]\n",
      "  [ 4  5  6]\n",
      "  [ 7  8  9]]\n",
      "\n",
      " [[10 20 30]\n",
      "  [40 50 60]\n",
      "  [70 80 90]]]\n",
      "\n",
      "[[[ 1  2  3]\n",
      "  [ 4  5  6]\n",
      "  [ 7  8  9]]\n",
      "\n",
      " [[ 0  0  0]\n",
      "  [40 50 60]\n",
      "  [70 80 90]]]\n",
      "\n",
      "[[[ 1  2  3]\n",
      "  [ 4  5  6]\n",
      "  [ 7  8  9]]\n",
      "\n",
      " [[ 1  2  3]\n",
      "  [40 50 60]\n",
      "  [70 80 90]]]\n"
     ]
    }
   ],
   "source": [
    "# Podemos actulizar una fila completa\n",
    "i = np.array([[[1,2,3],[4,5,6],[7,8,9]],[[10,20,30],[40,50,60],[70,80,90]]])\n",
    "print(i)\n",
    "print()\n",
    "\n",
    "# Establecer la fila 0 del elemento 1 a 0\n",
    "i[1,0,:] = 0\n",
    "print(i)\n",
    "print()\n",
    "\n",
    "# Establecer la fila 0 del elemento 1 a 1,2,3\n",
    "i[1,0,:] = [1,2,3]\n",
    "print(i)"
   ]
  },
  {
   "cell_type": "code",
   "execution_count": 113,
   "metadata": {},
   "outputs": [
    {
     "name": "stdout",
     "output_type": "stream",
     "text": [
      "[[[ 1  2  3]\n",
      "  [ 4  5  6]\n",
      "  [ 7  8  9]]\n",
      "\n",
      " [[10 20 30]\n",
      "  [40 50 60]\n",
      "  [70 80 90]]]\n",
      "\n",
      "[[[ 1  2  0]\n",
      "  [ 4  5  0]\n",
      "  [ 7  8  0]]\n",
      "\n",
      " [[10 20  0]\n",
      "  [40 50  0]\n",
      "  [70 80  0]]]\n"
     ]
    }
   ],
   "source": [
    "# Definir un array de 3x3x2\n",
    "j = np.array([[[1,2,3],[4,5,6],[7,8,9]],[[10,20,30],[40,50,60],[70,80,90]]])\n",
    "print(j)\n",
    "print()\n",
    "# Establecer la ultima columna de todos los elementos a 0\n",
    "j[:,:,-1] = 0\n",
    "print(j)"
   ]
  },
  {
   "cell_type": "code",
   "execution_count": 114,
   "metadata": {},
   "outputs": [
    {
     "name": "stdout",
     "output_type": "stream",
     "text": [
      "[[[ 1  2  3]\n",
      "  [ 4  5  6]\n",
      "  [ 7  8  9]]\n",
      "\n",
      " [[10 20 30]\n",
      "  [40 50 60]\n",
      "  [70 80 90]]]\n",
      "\n",
      "[[[ 1  2  1]\n",
      "  [ 4  5  2]\n",
      "  [ 7  8  3]]\n",
      "\n",
      " [[10 20  1]\n",
      "  [40 50  2]\n",
      "  [70 80  3]]]\n"
     ]
    }
   ],
   "source": [
    "# Definir un array de 3x3x2\n",
    "k = np.array([[[1,2,3],[4,5,6],[7,8,9]],[[10,20,30],[40,50,60],[70,80,90]]])\n",
    "print(k)\n",
    "print()\n",
    "# Establecer la ultima columna de todos los elementos a [ 1, 2, 3]\n",
    "k[:,:,-1] = [1,2,3]\n",
    "print(k)"
   ]
  },
  {
   "cell_type": "markdown",
   "metadata": {},
   "source": [
    "Ejercicios"
   ]
  },
  {
   "cell_type": "code",
   "execution_count": null,
   "metadata": {},
   "outputs": [],
   "source": [
    "'''\n",
    "Define un array 's' de tamaño 10 y selecciona el valor de la posición 5\n",
    "'''"
   ]
  },
  {
   "cell_type": "code",
   "execution_count": null,
   "metadata": {},
   "outputs": [],
   "source": [
    "'''\n",
    "Sobre el array s, selecciona el valor 5\n",
    "'''"
   ]
  },
  {
   "cell_type": "code",
   "execution_count": null,
   "metadata": {},
   "outputs": [],
   "source": [
    "'''\n",
    "Define el array 's' de tamaño 25 y selecciona los valores pares\n",
    "'''"
   ]
  },
  {
   "cell_type": "code",
   "execution_count": null,
   "metadata": {},
   "outputs": [],
   "source": [
    "'''\n",
    "Define el array 's' de tamaño 25 y selecciona los valores impares\n",
    "'''"
   ]
  },
  {
   "cell_type": "code",
   "execution_count": null,
   "metadata": {},
   "outputs": [],
   "source": [
    "'''\n",
    "Sobre el array s, selecciona el uĺltimo valor\n",
    "'''"
   ]
  },
  {
   "cell_type": "code",
   "execution_count": null,
   "metadata": {},
   "outputs": [],
   "source": [
    "\"\"\"\n",
    "Define el array 's' de tamaño 20 e invierte el orden de los valores\n",
    "\"\"\""
   ]
  },
  {
   "cell_type": "code",
   "execution_count": null,
   "metadata": {},
   "outputs": [],
   "source": [
    "'''\n",
    "Define un array s2 multidimensional de tamaño 2x2 y selecciona el valor de la segunda fila y la segunda columna\n",
    "'''"
   ]
  },
  {
   "cell_type": "code",
   "execution_count": null,
   "metadata": {},
   "outputs": [],
   "source": [
    "'''\n",
    "Define el array:\n",
    "[\n",
    "[[1, 2], [3, 4]]\n",
    "[[5, 6], [7, 8]]\n",
    "]\n",
    "y selecciona el valor de la segunda dimension, primera fila, segunda columna\n",
    "'''"
   ]
  },
  {
   "cell_type": "code",
   "execution_count": null,
   "metadata": {},
   "outputs": [],
   "source": [
    "'''\n",
    "Define un array s4 de tamaño 4x4x3 y establece los números centrales a 99\n",
    "'''"
   ]
  },
  {
   "cell_type": "code",
   "execution_count": null,
   "metadata": {},
   "outputs": [],
   "source": [
    "'''\n",
    "Define un array s4 de tamaño 4x4x3 y establece los números centrales a (0,1), (2,3), (4,5), (6,7)\n",
    "'''"
   ]
  },
  {
   "cell_type": "markdown",
   "metadata": {},
   "source": [
    "## Inicializando diferentes tipos de arrays"
   ]
  },
  {
   "cell_type": "markdown",
   "metadata": {},
   "source": [
    "Matriz de ceros"
   ]
  },
  {
   "cell_type": "code",
   "execution_count": 115,
   "metadata": {},
   "outputs": [
    {
     "data": {
      "text/plain": [
       "array([[0., 0., 0.],\n",
       "       [0., 0., 0.],\n",
       "       [0., 0., 0.],\n",
       "       [0., 0., 0.],\n",
       "       [0., 0., 0.]])"
      ]
     },
     "execution_count": 115,
     "metadata": {},
     "output_type": "execute_result"
    }
   ],
   "source": [
    "# Definir una matriz completa de 0 de tamaño 5x3\n",
    "np.zeros((5,3))"
   ]
  },
  {
   "cell_type": "code",
   "execution_count": 116,
   "metadata": {},
   "outputs": [
    {
     "data": {
      "text/plain": [
       "array([[0, 0, 0],\n",
       "       [0, 0, 0],\n",
       "       [0, 0, 0],\n",
       "       [0, 0, 0],\n",
       "       [0, 0, 0]], dtype=int32)"
      ]
     },
     "execution_count": 116,
     "metadata": {},
     "output_type": "execute_result"
    }
   ],
   "source": [
    "# Definir una matriz completa de 0 de tipo int32 de tamaño 5x3\n",
    "np.zeros((5,3), dtype=np.int32)"
   ]
  },
  {
   "cell_type": "code",
   "execution_count": 137,
   "metadata": {},
   "outputs": [
    {
     "data": {
      "text/plain": [
       "array([[[0., 0., 0., 0.],\n",
       "        [0., 0., 0., 0.],\n",
       "        [0., 0., 0., 0.]],\n",
       "\n",
       "       [[0., 0., 0., 0.],\n",
       "        [0., 0., 0., 0.],\n",
       "        [0., 0., 0., 0.]]])"
      ]
     },
     "execution_count": 137,
     "metadata": {},
     "output_type": "execute_result"
    }
   ],
   "source": [
    "# Podemos genera una matriz de zeros con un shape (2,3,4)\n",
    "np.zeros((2,3,4))"
   ]
  },
  {
   "cell_type": "code",
   "execution_count": 122,
   "metadata": {},
   "outputs": [
    {
     "name": "stdout",
     "output_type": "stream",
     "text": [
      "[[ 1  2  3]\n",
      " [ 4  5  6]\n",
      " [ 7  8  9]\n",
      " [10 11 12]\n",
      " [13 14 15]]\n",
      "int64\n",
      "[[0. 0. 0.]\n",
      " [0. 0. 0.]\n",
      " [0. 0. 0.]\n",
      " [0. 0. 0.]\n",
      " [0. 0. 0.]]\n",
      "[[0 0 0]\n",
      " [0 0 0]\n",
      " [0 0 0]\n",
      " [0 0 0]\n",
      " [0 0 0]]\n"
     ]
    }
   ],
   "source": [
    "# Definir una matriz de tamaño 5x3\n",
    "l = np.array([[1,2,3],[4,5,6],[7,8,9],[10,11,12],[13,14,15]])\n",
    "print(l)\n",
    "print(l.dtype)\n",
    "# Definir una matriz de 0 del shape de l\n",
    "zeros1 = np.zeros(l.shape)\n",
    "print(zeros1)\n",
    "print(zeros1.dtype)\n",
    "# Otra forma de hacerlo es con la función 'zeros_like' Esta respeta el tipo de dato de la matriz original\n",
    "print(np.zeros_like(l))\n"
   ]
  },
  {
   "cell_type": "markdown",
   "metadata": {},
   "source": [
    "Matriz de unos"
   ]
  },
  {
   "cell_type": "code",
   "execution_count": 123,
   "metadata": {},
   "outputs": [
    {
     "data": {
      "text/plain": [
       "array([[1., 1., 1.],\n",
       "       [1., 1., 1.],\n",
       "       [1., 1., 1.],\n",
       "       [1., 1., 1.],\n",
       "       [1., 1., 1.]])"
      ]
     },
     "execution_count": 123,
     "metadata": {},
     "output_type": "execute_result"
    }
   ],
   "source": [
    "# Define una matriz de 1 de tamaño 5x3\n",
    "np.ones((5,3))"
   ]
  },
  {
   "cell_type": "code",
   "execution_count": 124,
   "metadata": {},
   "outputs": [
    {
     "data": {
      "text/plain": [
       "array([[1, 1, 1],\n",
       "       [1, 1, 1],\n",
       "       [1, 1, 1],\n",
       "       [1, 1, 1],\n",
       "       [1, 1, 1]], dtype=int32)"
      ]
     },
     "execution_count": 124,
     "metadata": {},
     "output_type": "execute_result"
    }
   ],
   "source": [
    "# Define una matriz de 1 de tamaño 5x3 de tipo int32\n",
    "np.ones((5,3), dtype=np.int32)"
   ]
  },
  {
   "cell_type": "markdown",
   "metadata": {},
   "source": [
    "Matriz de valores concretos"
   ]
  },
  {
   "cell_type": "code",
   "execution_count": 125,
   "metadata": {},
   "outputs": [
    {
     "data": {
      "text/plain": [
       "array([[50, 50, 50],\n",
       "       [50, 50, 50],\n",
       "       [50, 50, 50],\n",
       "       [50, 50, 50],\n",
       "       [50, 50, 50]])"
      ]
     },
     "execution_count": 125,
     "metadata": {},
     "output_type": "execute_result"
    }
   ],
   "source": [
    "# Define una matriz de tamaño 5x3 con valores = 50\n",
    "np.full((5,3), 50)"
   ]
  },
  {
   "cell_type": "code",
   "execution_count": 132,
   "metadata": {},
   "outputs": [],
   "source": [
    "# Define una matriz de tamaño 5x3 con valores = 50 en punto flotante\n",
    "p = np.full((5,3), 50.) # Si ponemos el punto detras del valor, python infiere que queremo un float"
   ]
  },
  {
   "cell_type": "markdown",
   "metadata": {},
   "source": [
    "Matriz de valores concretos (full like)"
   ]
  },
  {
   "cell_type": "code",
   "execution_count": 133,
   "metadata": {},
   "outputs": [
    {
     "data": {
      "text/plain": [
       "array([[75., 75., 75.],\n",
       "       [75., 75., 75.],\n",
       "       [75., 75., 75.],\n",
       "       [75., 75., 75.],\n",
       "       [75., 75., 75.]])"
      ]
     },
     "execution_count": 133,
     "metadata": {},
     "output_type": "execute_result"
    }
   ],
   "source": [
    "# define una matriz como p (la matriz anterior) pero con valores = 75\n",
    "np.full_like(p, 75)"
   ]
  },
  {
   "cell_type": "markdown",
   "metadata": {},
   "source": [
    "Matriz de números aleatorios"
   ]
  },
  {
   "cell_type": "code",
   "execution_count": 134,
   "metadata": {},
   "outputs": [
    {
     "data": {
      "text/plain": [
       "array([[0.28971795, 0.36105046, 0.46586415],\n",
       "       [0.69884083, 0.05991784, 0.60148804],\n",
       "       [0.78676116, 0.34900249, 0.07938793],\n",
       "       [0.82145921, 0.09404639, 0.32131281],\n",
       "       [0.80572275, 0.6487967 , 0.24160158]])"
      ]
     },
     "execution_count": 134,
     "metadata": {},
     "output_type": "execute_result"
    }
   ],
   "source": [
    "# Atención!! Cuando creamos una matriz de números aleatorios NO se pasa \n",
    "# el shape por parametro como hemos hecho con los ceros o los ones\n",
    "\n",
    "# Define una matriz de tamaño 5x3 con valores aleatorios\n",
    "np.random.rand(5,3)"
   ]
  },
  {
   "cell_type": "code",
   "execution_count": 144,
   "metadata": {},
   "outputs": [
    {
     "data": {
      "text/plain": [
       "array([[65, 32, 88],\n",
       "       [17, 45, 37],\n",
       "       [72, 61, 98],\n",
       "       [98,  9, 89],\n",
       "       [26, 16, 62]])"
      ]
     },
     "execution_count": 144,
     "metadata": {},
     "output_type": "execute_result"
    }
   ],
   "source": [
    "# Definir una matriz de 5x3 con valore comprendidos entre 0 y 100\n",
    "np.random.randint(0,100,size=(5,3))"
   ]
  },
  {
   "cell_type": "code",
   "execution_count": 148,
   "metadata": {},
   "outputs": [
    {
     "data": {
      "text/plain": [
       "array([[116, 117, 117],\n",
       "       [129, 198, 101],\n",
       "       [116, 138, 187],\n",
       "       [186, 146, 118],\n",
       "       [129, 190, 100]])"
      ]
     },
     "execution_count": 148,
     "metadata": {},
     "output_type": "execute_result"
    }
   ],
   "source": [
    "# Definir una matriz de 5x3 con valore comprendidos entre 100 y 200\n",
    "np.random.randint(100,200,size=(5,3))"
   ]
  },
  {
   "cell_type": "code",
   "execution_count": 150,
   "metadata": {},
   "outputs": [
    {
     "data": {
      "text/plain": [
       "array([[ 5.00150782, 54.72835001, 65.20541996],\n",
       "       [60.00654991, 69.29200709, 78.91472833],\n",
       "       [77.60286809, 31.31636533, 29.05304361],\n",
       "       [58.87140494, 48.22362112, 64.68401439],\n",
       "       [80.70646164, 49.51362588, 80.78276457]])"
      ]
     },
     "execution_count": 150,
     "metadata": {},
     "output_type": "execute_result"
    }
   ],
   "source": [
    "# Definir una matriz de 5x3 con valores alazares mayores que 1\n",
    "np.random.rand(5,3) * 100"
   ]
  },
  {
   "cell_type": "markdown",
   "metadata": {},
   "source": [
    "Matriz identidad"
   ]
  },
  {
   "cell_type": "code",
   "execution_count": 191,
   "metadata": {},
   "outputs": [
    {
     "name": "stdout",
     "output_type": "stream",
     "text": [
      "[[1. 0. 0. 0. 0.]\n",
      " [0. 1. 0. 0. 0.]\n",
      " [0. 0. 1. 0. 0.]\n",
      " [0. 0. 0. 1. 0.]\n",
      " [0. 0. 0. 0. 1.]]\n"
     ]
    }
   ],
   "source": [
    "# Define la matriz identidad de tamaño 5x5\n",
    "print(np.eye(5))"
   ]
  },
  {
   "cell_type": "code",
   "execution_count": 190,
   "metadata": {},
   "outputs": [
    {
     "name": "stdout",
     "output_type": "stream",
     "text": [
      "[[1. 0. 0. 0. 0.]\n",
      " [0. 1. 0. 0. 0.]\n",
      " [0. 0. 1. 0. 0.]\n",
      " [0. 0. 0. 1. 0.]\n",
      " [0. 0. 0. 0. 1.]]\n"
     ]
    }
   ],
   "source": [
    "# La matriz identidad se puede definir con la función 'identity'\n",
    "print(np.identity(5))"
   ]
  },
  {
   "cell_type": "markdown",
   "metadata": {},
   "source": [
    "Ejercicios"
   ]
  },
  {
   "cell_type": "code",
   "execution_count": null,
   "metadata": {},
   "outputs": [],
   "source": [
    "'''\n",
    "Define el array z de dim 1 completo de ceros\n",
    "'''\n"
   ]
  },
  {
   "cell_type": "code",
   "execution_count": null,
   "metadata": {},
   "outputs": [],
   "source": [
    "'''\n",
    "Define un array z de dim 8x8 completo de ceros\n",
    "'''\n"
   ]
  },
  {
   "cell_type": "code",
   "execution_count": null,
   "metadata": {},
   "outputs": [],
   "source": [
    "'''\n",
    "Define el array 'z' completo de ceros de n dim\n",
    "'''\n"
   ]
  },
  {
   "cell_type": "code",
   "execution_count": null,
   "metadata": {},
   "outputs": [],
   "source": [
    "'''\n",
    "Define el array 'd' completo de unos de n dim\n",
    "'''\n"
   ]
  },
  {
   "cell_type": "code",
   "execution_count": null,
   "metadata": {},
   "outputs": [],
   "source": [
    "'''\n",
    "Define un array como el que se muestra a continuación:\n",
    "[[0. 0. 0. 0. 0. 0. 0. 0.]\n",
    " [0. 1. 1. 1. 1. 1. 1. 0.]\n",
    " [0. 1. 1. 1. 1. 1. 1. 0.]\n",
    " [0. 1. 1. 1. 1. 1. 1. 0.]\n",
    " [0. 1. 1. 1. 1. 1. 1. 0.]\n",
    " [0. 1. 1. 1. 1. 1. 1. 0.]\n",
    " [0. 1. 1. 1. 1. 1. 1. 0.]\n",
    " [0. 0. 0. 0. 0. 0. 0. 0.]]\n",
    "'''"
   ]
  },
  {
   "cell_type": "code",
   "execution_count": null,
   "metadata": {},
   "outputs": [],
   "source": [
    "'''\n",
    "Define un array 'g' conun range de 0 a 10 de dim 2\n",
    "'''\n"
   ]
  },
  {
   "cell_type": "code",
   "execution_count": null,
   "metadata": {},
   "outputs": [],
   "source": [
    "'''\n",
    "Define un array 'h' con un range de 0 a 100 con un paso de 5 y una dim difrente de 1\n",
    "'''\n"
   ]
  },
  {
   "cell_type": "markdown",
   "metadata": {},
   "source": [
    "## Operaciones con arrays"
   ]
  },
  {
   "cell_type": "markdown",
   "metadata": {},
   "source": [
    "operaciones básicas"
   ]
  },
  {
   "cell_type": "code",
   "execution_count": 153,
   "metadata": {},
   "outputs": [
    {
     "name": "stdout",
     "output_type": "stream",
     "text": [
      "[1 2 3 4 5]\n"
     ]
    }
   ],
   "source": [
    "a = np.array([1, 2, 3, 4, 5])\n",
    "print(a)"
   ]
  },
  {
   "cell_type": "code",
   "execution_count": 154,
   "metadata": {},
   "outputs": [
    {
     "name": "stdout",
     "output_type": "stream",
     "text": [
      "[3 4 5 6 7]\n"
     ]
    }
   ],
   "source": [
    "# Suma\n",
    "print(a + 2)"
   ]
  },
  {
   "cell_type": "code",
   "execution_count": 155,
   "metadata": {},
   "outputs": [
    {
     "name": "stdout",
     "output_type": "stream",
     "text": [
      "[-1  0  1  2  3]\n"
     ]
    }
   ],
   "source": [
    "# Resta\n",
    "print(a - 2)"
   ]
  },
  {
   "cell_type": "code",
   "execution_count": 156,
   "metadata": {},
   "outputs": [
    {
     "name": "stdout",
     "output_type": "stream",
     "text": [
      "[ 2  4  6  8 10]\n"
     ]
    }
   ],
   "source": [
    "# Multiplicación\n",
    "print(a * 2)"
   ]
  },
  {
   "cell_type": "code",
   "execution_count": 157,
   "metadata": {},
   "outputs": [
    {
     "name": "stdout",
     "output_type": "stream",
     "text": [
      "[0.5 1.  1.5 2.  2.5]\n"
     ]
    }
   ],
   "source": [
    "# División\n",
    "print(a / 2)"
   ]
  },
  {
   "cell_type": "code",
   "execution_count": 158,
   "metadata": {},
   "outputs": [
    {
     "name": "stdout",
     "output_type": "stream",
     "text": [
      "[ 1  4  9 16 25]\n"
     ]
    }
   ],
   "source": [
    "# Exponenciacion\n",
    "print(a ** 2)"
   ]
  },
  {
   "cell_type": "code",
   "execution_count": 160,
   "metadata": {},
   "outputs": [],
   "source": [
    "# Las operaciones basicas con arrays o matrices son \"elemet wise\". Esto significa que se aplican a cada elemento de la matriz."
   ]
  },
  {
   "cell_type": "code",
   "execution_count": 161,
   "metadata": {},
   "outputs": [
    {
     "name": "stdout",
     "output_type": "stream",
     "text": [
      "[10 20 30 40 50]\n"
     ]
    }
   ],
   "source": [
    "b = np.array([10, 20, 30, 40, 50])\n",
    "print(b)"
   ]
  },
  {
   "cell_type": "code",
   "execution_count": 163,
   "metadata": {},
   "outputs": [
    {
     "name": "stdout",
     "output_type": "stream",
     "text": [
      "[11 22 33 44 55]\n"
     ]
    }
   ],
   "source": [
    "# Podemos sumar dos arrays porque son del mismo tamaño\n",
    "print(a + b)"
   ]
  },
  {
   "cell_type": "markdown",
   "metadata": {},
   "source": [
    "Ejercicios"
   ]
  },
  {
   "cell_type": "code",
   "execution_count": 174,
   "metadata": {},
   "outputs": [
    {
     "name": "stdout",
     "output_type": "stream",
     "text": [
      "[88 64  6 67]\n",
      "[1. 1. 1. 1.]\n",
      "[89. 65.  7. 68.]\n"
     ]
    }
   ],
   "source": [
    "'''\n",
    "Define un array 'a' de tamaño 4 y un array 'b' de tamaño 4 completo de 1s. A contunuación suma los valores de ambos arrays y \n",
    "comprueba que los valores son correctos.\n",
    "'''\n",
    "a = np.random.randint(0,100,size=(4))\n",
    "print(a)\n",
    "b = np.ones((4))\n",
    "print(b)\n",
    "print(a + b)"
   ]
  },
  {
   "cell_type": "code",
   "execution_count": null,
   "metadata": {},
   "outputs": [],
   "source": [
    "'''\n",
    "Define un array 'a' de tamaño 4 y un array 'b' de tamaño 4 completo de 1s. \n",
    "A contunuación resta los valores de ambos arrays y comprueba que los valores son correctos.\n",
    "'''"
   ]
  },
  {
   "cell_type": "code",
   "execution_count": null,
   "metadata": {},
   "outputs": [],
   "source": [
    "'''\n",
    "Define un array 'a' de tamaño 4 y un array 'b' de tamaño 4 completo de 2s. A contunuación multiplica o divide los valores de ambos arrays y comprueba que los valores son correctos.\n",
    "'''"
   ]
  },
  {
   "cell_type": "markdown",
   "metadata": {},
   "source": [
    "Álgebra lineal"
   ]
  },
  {
   "cell_type": "markdown",
   "metadata": {},
   "source": [
    "numpy py permite realizar operaciones matriciales como por elemplo:\n",
    "- determinante: np.linalg.det()\n",
    "- inversa: np.linalg.inv()\n",
    "- producto matricial: np.dot()\n",
    "- diagonal: np.diag()\n",
    "- inversa de una matriz: np.linalg.inv()\n",
    "\n"
   ]
  },
  {
   "cell_type": "code",
   "execution_count": 176,
   "metadata": {},
   "outputs": [
    {
     "name": "stdout",
     "output_type": "stream",
     "text": [
      "[[5 7 8]\n",
      " [0 3 3]]\n"
     ]
    }
   ],
   "source": [
    "# Definir una matriz de 2x3 con valores aleatorios entre 0 y 10\n",
    "a = np.random.randint(0,10,size=(2,3))\n",
    "print(a)"
   ]
  },
  {
   "cell_type": "code",
   "execution_count": 179,
   "metadata": {},
   "outputs": [
    {
     "name": "stdout",
     "output_type": "stream",
     "text": [
      "[[4 5]\n",
      " [8 4]\n",
      " [7 4]]\n"
     ]
    }
   ],
   "source": [
    "# Definir una matriz de 3x2 con valores aleatorios entre 0 y 10\n",
    "b = np.random.randint(0,10,size=(3,2))\n",
    "print(b)"
   ]
  },
  {
   "cell_type": "code",
   "execution_count": null,
   "metadata": {},
   "outputs": [],
   "source": [
    "# Esto va a dar error porque va a tratar de hacer la operación element wise\n",
    "print(a*b)"
   ]
  },
  {
   "cell_type": "code",
   "execution_count": 182,
   "metadata": {},
   "outputs": [
    {
     "name": "stdout",
     "output_type": "stream",
     "text": [
      "[[132  85]\n",
      " [ 45  24]]\n"
     ]
    }
   ],
   "source": [
    "# Para realizar la multiplicación matemática de matrices debemos usar la función 'dot' o 'matmul'\n",
    "producto = np.dot(a,b)\n",
    "print(producto)"
   ]
  },
  {
   "cell_type": "code",
   "execution_count": 183,
   "metadata": {},
   "outputs": [
    {
     "name": "stdout",
     "output_type": "stream",
     "text": [
      "[[132  85]\n",
      " [ 45  24]]\n"
     ]
    }
   ],
   "source": [
    "producto = np.matmul(a,b)\n",
    "print(producto)"
   ]
  },
  {
   "cell_type": "code",
   "execution_count": 186,
   "metadata": {},
   "outputs": [
    {
     "name": "stdout",
     "output_type": "stream",
     "text": [
      "[[132  85]\n",
      " [ 45  24]]\n"
     ]
    }
   ],
   "source": [
    "producto = a @ b\n",
    "print(producto)"
   ]
  },
  {
   "cell_type": "code",
   "execution_count": null,
   "metadata": {},
   "outputs": [],
   "source": [
    "# Ejemplo de error\n",
    "c = np.random.randint(0,10,size=(3,2))\n",
    "print(c)\n",
    "print(np.dot(b,c))"
   ]
  },
  {
   "cell_type": "code",
   "execution_count": 194,
   "metadata": {},
   "outputs": [
    {
     "name": "stdout",
     "output_type": "stream",
     "text": [
      "[[1. 0. 0.]\n",
      " [0. 1. 0.]\n",
      " [0. 0. 1.]]\n",
      "Determinante; 1.0\n"
     ]
    }
   ],
   "source": [
    "# Obtener el determinante de una matriz\n",
    "a = np.identity(3)\n",
    "print(a)\n",
    "print('Determinante;',np.linalg.det(a))"
   ]
  },
  {
   "cell_type": "code",
   "execution_count": 195,
   "metadata": {},
   "outputs": [
    {
     "name": "stdout",
     "output_type": "stream",
     "text": [
      "[[2 4 6]\n",
      " [9 1 6]\n",
      " [6 2 5]]\n",
      "Determinante: 22.000000000000014\n"
     ]
    }
   ],
   "source": [
    "# Define una matriz de 3x3 con valores aleatorios entre 0 y 10\n",
    "b = np.random.randint(0,10,size=(3,3))\n",
    "print(b)\n",
    "# Obtener el determinante de la matriz\n",
    "print('Determinante:',np.linalg.det(b))"
   ]
  },
  {
   "cell_type": "code",
   "execution_count": 198,
   "metadata": {},
   "outputs": [
    {
     "name": "stdout",
     "output_type": "stream",
     "text": [
      "[[5 8 0]\n",
      " [2 9 3]\n",
      " [7 0 3]]\n",
      "Matriz inversa:\n",
      " [[ 0.10588235 -0.09411765  0.09411765]\n",
      " [ 0.05882353  0.05882353 -0.05882353]\n",
      " [-0.24705882  0.21960784  0.11372549]]\n"
     ]
    }
   ],
   "source": [
    "# Matriz inversa\n",
    "# La matriz inversa de una matriz es igual a la matriz adjunta de su matriz traspuesta, \n",
    "# dividida por su determinante, siempre que este no sea cero.\n",
    "\n",
    "# Define una matriz de números aleatorios entre 0 y 10 de tamaño 3x3\n",
    "c = np.random.randint(0,10,size=(3,3))\n",
    "print(c)\n",
    "# Obtener la matriz inversa\n",
    "inversa = np.linalg.inv(c)\n",
    "print('Matriz inversa:\\n',inversa)"
   ]
  },
  {
   "cell_type": "code",
   "execution_count": 199,
   "metadata": {},
   "outputs": [
    {
     "name": "stdout",
     "output_type": "stream",
     "text": [
      "[[9 6 2 6 4]\n",
      " [6 4 4 2 1]\n",
      " [2 3 6 6 1]]\n"
     ]
    },
    {
     "data": {
      "text/plain": [
       "array([[9, 6, 2],\n",
       "       [6, 4, 3],\n",
       "       [2, 4, 6],\n",
       "       [6, 2, 6],\n",
       "       [4, 1, 1]])"
      ]
     },
     "execution_count": 199,
     "metadata": {},
     "output_type": "execute_result"
    }
   ],
   "source": [
    "# Matriz transpuesta\n",
    "# La matriz transpuesta de una matriz es otra matriz que se obtiene al intercambiar las filas por las columnas.\n",
    "d = np.random.randint(0,10,size=(3,5))\n",
    "print(d)\n",
    "# Obtener la matriz transpuesta\n",
    "np.transpose(d)\n"
   ]
  },
  {
   "cell_type": "markdown",
   "metadata": {},
   "source": [
    "Más tipos de operaciones con arrays:\n",
    "- **np.sum():** Suma de todos los elementos de un array\n",
    "- **np.mean():** Media de todos los elementos de un array\n",
    "- **np.std():** Desviación estándar de todos los elementos de un array\n",
    "- **np.var():** Varianza de todos los elementos de un array\n",
    "- **np.min():** Valor mínimo de todos los elementos de un array\n",
    "- **np.max():** Valor máximo de todos los elementos de un array\n",
    "- **np.argmin():** Indice del valor mínimo de un array\n",
    "- **np.argmax():** Indice del valor máximo de un array\n",
    "- **np.cumsum():** Sumatoria acumulada de un array\n",
    "- **np.cumprod():** Producto acumulado de un array\n",
    "- **np.flip():** Inversa de un array\n"
   ]
  },
  {
   "cell_type": "code",
   "execution_count": 201,
   "metadata": {},
   "outputs": [
    {
     "name": "stdout",
     "output_type": "stream",
     "text": [
      "[[2 5 8]\n",
      " [3 7 4]\n",
      " [2 4 0]]\n"
     ]
    }
   ],
   "source": [
    "# Define una matriz de números aleatorios entre 0 y 10 de tamaño 3x3\n",
    "e = np.random.randint(0,10,size=(3,3))\n",
    "print(e)"
   ]
  },
  {
   "cell_type": "code",
   "execution_count": 202,
   "metadata": {},
   "outputs": [
    {
     "name": "stdout",
     "output_type": "stream",
     "text": [
      "35\n"
     ]
    }
   ],
   "source": [
    "# Obtener el suma de todos los elementos de la matriz\n",
    "print(np.sum(e))"
   ]
  },
  {
   "cell_type": "code",
   "execution_count": 203,
   "metadata": {},
   "outputs": [
    {
     "name": "stdout",
     "output_type": "stream",
     "text": [
      "3.888888888888889\n"
     ]
    }
   ],
   "source": [
    "# Obetener la media de todos los elementos de la matriz\n",
    "print(np.mean(e))"
   ]
  },
  {
   "cell_type": "code",
   "execution_count": 204,
   "metadata": {},
   "outputs": [
    {
     "name": "stdout",
     "output_type": "stream",
     "text": [
      "8\n"
     ]
    }
   ],
   "source": [
    "# Obetener el valor máximo de una matriz\n",
    "print(np.max(e))"
   ]
  },
  {
   "cell_type": "code",
   "execution_count": 205,
   "metadata": {},
   "outputs": [
    {
     "name": "stdout",
     "output_type": "stream",
     "text": [
      "0\n"
     ]
    }
   ],
   "source": [
    "# Obetener el valor mínimo de una matriz\n",
    "print(np.min(e))"
   ]
  },
  {
   "cell_type": "code",
   "execution_count": 208,
   "metadata": {},
   "outputs": [
    {
     "name": "stdout",
     "output_type": "stream",
     "text": [
      "máximo de cada fila: [8 7 4]\n",
      "máximo de cada coluna: [3 7 8]\n"
     ]
    }
   ],
   "source": [
    "# Obtener el valor máximo de cada fila\n",
    "print('máximo de cada fila:',np.max(e,axis=1))\n",
    "# Obtener el valor máximo de cada columna\n",
    "print('máximo de cada coluna:',np.max(e,axis=0))"
   ]
  },
  {
   "cell_type": "code",
   "execution_count": 211,
   "metadata": {},
   "outputs": [
    {
     "name": "stdout",
     "output_type": "stream",
     "text": [
      "[[7 4]\n",
      " [4 0]]\n",
      "7\n"
     ]
    }
   ],
   "source": [
    "# Obtener el valor máximo de e[1:3,1:3]\n",
    "print(e[1:3,1:3])\n",
    "print(np.max(e[1:3,1:3]))"
   ]
  },
  {
   "cell_type": "code",
   "execution_count": 213,
   "metadata": {},
   "outputs": [
    {
     "name": "stdout",
     "output_type": "stream",
     "text": [
      "Sumatorio de cada fila: [15 14  6]\n",
      "Sumatorio de cada coluna: [ 7 16 12]\n"
     ]
    }
   ],
   "source": [
    "# Obtener el sumatorio de cada fila\n",
    "print('Sumatorio de cada fila:',np.sum(e,axis=1))\n",
    "# Obtener el sumatorio de cada columna\n",
    "print('Sumatorio de cada coluna:',np.sum(e,axis=0))"
   ]
  },
  {
   "cell_type": "markdown",
   "metadata": {},
   "source": [
    "Ejercicios"
   ]
  },
  {
   "cell_type": "code",
   "execution_count": null,
   "metadata": {},
   "outputs": [],
   "source": [
    "import numpy as np"
   ]
  },
  {
   "cell_type": "code",
   "execution_count": null,
   "metadata": {},
   "outputs": [],
   "source": [
    "'''\n",
    "Calcula la mediana de un array\n",
    "'''"
   ]
  },
  {
   "cell_type": "code",
   "execution_count": null,
   "metadata": {},
   "outputs": [],
   "source": [
    "'''\n",
    "calcula la media de una matriz\n",
    "'''"
   ]
  },
  {
   "cell_type": "markdown",
   "metadata": {},
   "source": [
    "### Reshape"
   ]
  },
  {
   "cell_type": "code",
   "execution_count": 219,
   "metadata": {},
   "outputs": [
    {
     "data": {
      "text/plain": [
       "array([[1, 2, 3],\n",
       "       [4, 5, 6]])"
      ]
     },
     "execution_count": 219,
     "metadata": {},
     "output_type": "execute_result"
    }
   ],
   "source": [
    "matriz1 = np.array([[1, 2, 3], [4, 5, 6]])\n",
    "matriz1"
   ]
  },
  {
   "cell_type": "code",
   "execution_count": 221,
   "metadata": {},
   "outputs": [
    {
     "data": {
      "text/plain": [
       "array([[1, 2],\n",
       "       [3, 4],\n",
       "       [5, 6]])"
      ]
     },
     "execution_count": 221,
     "metadata": {},
     "output_type": "execute_result"
    }
   ],
   "source": [
    "matriz2 = matriz1.reshape(3, 2)\n",
    "matriz2"
   ]
  },
  {
   "cell_type": "code",
   "execution_count": 223,
   "metadata": {},
   "outputs": [
    {
     "data": {
      "text/plain": [
       "array([[1, 2, 3, 4, 5, 6]])"
      ]
     },
     "execution_count": 223,
     "metadata": {},
     "output_type": "execute_result"
    }
   ],
   "source": [
    "matriz3 = matriz1.reshape(1, 6)\n",
    "matriz3"
   ]
  },
  {
   "cell_type": "code",
   "execution_count": 226,
   "metadata": {},
   "outputs": [
    {
     "name": "stdout",
     "output_type": "stream",
     "text": [
      "[ 1  2  3  4  5  6  7  8  9 10 11 12 13 14 15 16 17 18 19 20]\n",
      "(20,)\n"
     ]
    }
   ],
   "source": [
    "# Ejemplo practico de reshape\n",
    "z = np.array([1, 2, 3, 4, 5, 6, 7, 8, 9, 10, 11, 12, 13, 14, 15, 16, 17, 18, 19, 20])\n",
    "print(z)\n",
    "print(z.shape)"
   ]
  },
  {
   "cell_type": "code",
   "execution_count": 230,
   "metadata": {},
   "outputs": [
    {
     "name": "stdout",
     "output_type": "stream",
     "text": [
      "[[ 1  2  3  4  5]\n",
      " [ 6  7  8  9 10]\n",
      " [11 12 13 14 15]\n",
      " [16 17 18 19 20]]\n"
     ]
    }
   ],
   "source": [
    "# reshape a 2 dimensiones\n",
    "z = z.reshape(4, 5)\n",
    "print(z)"
   ]
  },
  {
   "cell_type": "code",
   "execution_count": 232,
   "metadata": {},
   "outputs": [
    {
     "data": {
      "text/plain": [
       "array([[[ 1,  2],\n",
       "        [ 3,  4],\n",
       "        [ 5,  6],\n",
       "        [ 7,  8],\n",
       "        [ 9, 10]],\n",
       "\n",
       "       [[11, 12],\n",
       "        [13, 14],\n",
       "        [15, 16],\n",
       "        [17, 18],\n",
       "        [19, 20]]])"
      ]
     },
     "execution_count": 232,
     "metadata": {},
     "output_type": "execute_result"
    }
   ],
   "source": [
    "# reshape a 3 dimensiones\n",
    "z.reshape(2,5,2)"
   ]
  },
  {
   "cell_type": "code",
   "execution_count": 45,
   "metadata": {},
   "outputs": [
    {
     "data": {
      "text/plain": [
       "array([[ 9, 30, 65, 66, 42, 88, 72, 21, 50],\n",
       "       [42,  9, 52, 60, 28, 98, 25, 83, 40],\n",
       "       [79, 39,  8, 96, 71, 68, 56, 34, 40],\n",
       "       [27,  6, 55,  6, 57, 81, 91, 57, 61],\n",
       "       [51, 35, 81, 25, 84,  0, 59, 65, 28],\n",
       "       [69,  0, 63, 35, 15, 44,  7, 46, 93],\n",
       "       [70, 37, 84,  3, 15, 79, 74, 79, 61],\n",
       "       [71, 78, 33, 44, 96, 22, 33, 25, 80]], dtype=int32)"
      ]
     },
     "execution_count": 45,
     "metadata": {},
     "output_type": "execute_result"
    }
   ],
   "source": [
    "# Crear un fichero\n",
    "data = np.random.randint(0,100,size=(8,9), dtype=np.int32)\n",
    "data"
   ]
  },
  {
   "cell_type": "code",
   "execution_count": 48,
   "metadata": {},
   "outputs": [],
   "source": [
    "# Guarda el array f en un csv\n",
    "np.savetxt('file_data.csv', data, delimiter=';', fmt='%d')\n"
   ]
  },
  {
   "cell_type": "code",
   "execution_count": 50,
   "metadata": {},
   "outputs": [
    {
     "name": "stdout",
     "output_type": "stream",
     "text": [
      "[[ 9 30 65 66 42 88 72 21 50]\n",
      " [42  9 52 60 28 98 25 83 40]\n",
      " [79 39  8 96 71 68 56 34 40]\n",
      " [27  6 55  6 57 81 91 57 61]\n",
      " [51 35 81 25 84  0 59 65 28]\n",
      " [69  0 63 35 15 44  7 46 93]\n",
      " [70 37 84  3 15 79 74 79 61]\n",
      " [71 78 33 44 96 22 33 25 80]]\n"
     ]
    }
   ],
   "source": [
    "# Carga el contenido del csv en un array llamado file_data\n",
    "file_data = np.loadtxt('file_data.csv', delimiter=';', dtype=np.int32)\n",
    "print(file_data)"
   ]
  },
  {
   "cell_type": "markdown",
   "metadata": {},
   "source": [
    "Máscaras Booleanas"
   ]
  },
  {
   "cell_type": "code",
   "execution_count": 51,
   "metadata": {},
   "outputs": [
    {
     "name": "stdout",
     "output_type": "stream",
     "text": [
      "[[ 9 30 65 66 42 88 72 21 50]\n",
      " [42  9 52 60 28 98 25 83 40]\n",
      " [79 39  8 96 71 68 56 34 40]\n",
      " [27  6 55  6 57 81 91 57 61]\n",
      " [51 35 81 25 84  0 59 65 28]\n",
      " [69  0 63 35 15 44  7 46 93]\n",
      " [70 37 84  3 15 79 74 79 61]\n",
      " [71 78 33 44 96 22 33 25 80]]\n"
     ]
    }
   ],
   "source": [
    "print(file_data)"
   ]
  },
  {
   "cell_type": "code",
   "execution_count": 52,
   "metadata": {},
   "outputs": [
    {
     "data": {
      "text/plain": [
       "array([[False, False, False, False, False,  True, False, False, False],\n",
       "       [False, False, False, False, False,  True, False,  True, False],\n",
       "       [ True, False, False,  True, False, False, False, False, False],\n",
       "       [False, False, False, False, False,  True,  True, False, False],\n",
       "       [False, False,  True, False,  True, False, False, False, False],\n",
       "       [False, False, False, False, False, False, False, False,  True],\n",
       "       [False, False,  True, False, False,  True, False,  True, False],\n",
       "       [False,  True, False, False,  True, False, False, False,  True]])"
      ]
     },
     "execution_count": 52,
     "metadata": {},
     "output_type": "execute_result"
    }
   ],
   "source": [
    "# Podemos generar una máscara booleana para filtrar los datos\n",
    "file_data > 75"
   ]
  },
  {
   "cell_type": "code",
   "execution_count": 55,
   "metadata": {},
   "outputs": [
    {
     "name": "stdout",
     "output_type": "stream",
     "text": [
      "[88 98 83 79 96 81 91 81 84 93 84 79 79 78 96 80]\n"
     ]
    },
    {
     "data": {
      "text/plain": [
       "(16,)"
      ]
     },
     "execution_count": 55,
     "metadata": {},
     "output_type": "execute_result"
    }
   ],
   "source": [
    "# Esta máscara se puede aplicar a cualquier array\n",
    "resultado =  file_data[file_data > 75]\n",
    "print(resultado)\n",
    "resultado.shape"
   ]
  },
  {
   "cell_type": "code",
   "execution_count": 66,
   "metadata": {},
   "outputs": [
    {
     "name": "stdout",
     "output_type": "stream",
     "text": [
      "[25 48  4 15 24 52]\n",
      "['Juan' 'Ana' 'Pedro' 'Luis' 'María' 'Pablo']\n",
      "[ True  True False False  True  True]\n",
      "['Juan' 'Ana' 'María' 'Pablo']\n"
     ]
    }
   ],
   "source": [
    "# Generar una lista de edades aleatorias\n",
    "edades = np.array([25,48,4,15,24,52])\n",
    "# Personas\n",
    "personas = np.array(['Juan', 'Ana', 'Pedro', 'Luis', 'María', 'Pablo'])\n",
    "print(edades)\n",
    "print(personas)\n",
    "\n",
    "# mayores de 18 años\n",
    "mayores_18 = edades > 18\n",
    "print(mayores_18)\n",
    "\n",
    "# Aplicar la máscara a la lista de personas\n",
    "personas_mayores_18 = personas[mayores_18]\n",
    "print(personas_mayores_18)"
   ]
  },
  {
   "cell_type": "code",
   "execution_count": 71,
   "metadata": {},
   "outputs": [
    {
     "name": "stdout",
     "output_type": "stream",
     "text": [
      "[[ 9 30 65 66 42 88 72 21 50]\n",
      " [42  9 52 60 28 98 25 83 40]\n",
      " [79 39  8 96 71 68 56 34 40]\n",
      " [27  6 55  6 57 81 91 57 61]\n",
      " [51 35 81 25 84  0 59 65 28]\n",
      " [69  0 63 35 15 44  7 46 93]\n",
      " [70 37 84  3 15 79 74 79 61]\n",
      " [71 78 33 44 96 22 33 25 80]]\n",
      "True\n"
     ]
    }
   ],
   "source": [
    "# También podemos ver si alguno de los elementos cumple una condición\n",
    "print(file_data)\n",
    "print(np.any(file_data > 75))"
   ]
  },
  {
   "cell_type": "code",
   "execution_count": 75,
   "metadata": {},
   "outputs": [
    {
     "data": {
      "text/plain": [
       "array([[66, 42, 88, 72, 50],\n",
       "       [60, 28, 98, 25, 40],\n",
       "       [96, 71, 68, 56, 40],\n",
       "       [ 6, 57, 81, 91, 61],\n",
       "       [25, 84,  0, 59, 28],\n",
       "       [35, 15, 44,  7, 93],\n",
       "       [ 3, 15, 79, 74, 61],\n",
       "       [44, 96, 22, 33, 80]], dtype=int32)"
      ]
     },
     "execution_count": 75,
     "metadata": {},
     "output_type": "execute_result"
    }
   ],
   "source": [
    "# Any indicando el axis=0 (en las columnas)\n",
    "# Devuleve un booleano de tamaño igual al número de columnas.\n",
    "column_mayor_que_80 = np.any(file_data > 80, axis=0)\n",
    "column_mayor_que_90 = np.any(file_data > 90, axis=0)\n",
    "\n",
    "file_data[:,column_mayor_que_90]"
   ]
  },
  {
   "cell_type": "code",
   "execution_count": 77,
   "metadata": {},
   "outputs": [
    {
     "data": {
      "text/plain": [
       "array([[42,  9, 52, 60, 28, 98, 25, 83, 40],\n",
       "       [79, 39,  8, 96, 71, 68, 56, 34, 40],\n",
       "       [27,  6, 55,  6, 57, 81, 91, 57, 61],\n",
       "       [69,  0, 63, 35, 15, 44,  7, 46, 93],\n",
       "       [71, 78, 33, 44, 96, 22, 33, 25, 80]], dtype=int32)"
      ]
     },
     "execution_count": 77,
     "metadata": {},
     "output_type": "execute_result"
    }
   ],
   "source": [
    "# Any indicando el axis=1 (en las filas)\n",
    "# Devuelve un booleano de tamaño igual al número de filas.\n",
    "filas_mayor_que_80 = np.any(file_data > 80, axis=1)\n",
    "filas_mayor_que_90 = np.any(file_data > 90, axis=1)\n",
    "\n",
    "file_data[filas_mayor_que_90,:]"
   ]
  },
  {
   "cell_type": "code",
   "execution_count": 82,
   "metadata": {},
   "outputs": [
    {
     "data": {
      "text/plain": [
       "array([[66, 42, 88, 72, 50],\n",
       "       [60, 28, 98, 25, 40],\n",
       "       [96, 71, 68, 56, 40],\n",
       "       [ 6, 57, 81, 91, 61],\n",
       "       [25, 84,  0, 59, 28],\n",
       "       [35, 15, 44,  7, 93],\n",
       "       [ 3, 15, 79, 74, 61],\n",
       "       [44, 96, 22, 33, 80]], dtype=int32)"
      ]
     },
     "execution_count": 82,
     "metadata": {},
     "output_type": "execute_result"
    }
   ],
   "source": [
    "# Filtrar los datos de las filas que tengan valores mayores que 80\n",
    "f1 = file_data[filas_mayor_que_80,:]\n",
    "# sobre ese resultado flitrar las columnas que tengan valores mayores que 90\n",
    "col_mayores_que_90 = np.any(f1 > 90, axis=0)\n",
    "f1[:,col_mayores_que_90]"
   ]
  },
  {
   "cell_type": "code",
   "execution_count": 84,
   "metadata": {},
   "outputs": [
    {
     "name": "stdout",
     "output_type": "stream",
     "text": [
      "[ True  True  True  True  True  True False  True]\n"
     ]
    },
    {
     "data": {
      "text/plain": [
       "array([[ 9, 30, 65, 66, 42, 88, 72, 21, 50],\n",
       "       [42,  9, 52, 60, 28, 98, 25, 83, 40],\n",
       "       [79, 39,  8, 96, 71, 68, 56, 34, 40],\n",
       "       [27,  6, 55,  6, 57, 81, 91, 57, 61],\n",
       "       [51, 35, 81, 25, 84,  0, 59, 65, 28],\n",
       "       [69,  0, 63, 35, 15, 44,  7, 46, 93],\n",
       "       [71, 78, 33, 44, 96, 22, 33, 25, 80]], dtype=int32)"
      ]
     },
     "execution_count": 84,
     "metadata": {},
     "output_type": "execute_result"
    }
   ],
   "source": [
    "# Se pueden anidar estas funcioner para acotar un dato por ejemplo\n",
    "mascara = np.any((file_data > 40) & (file_data < 60), axis=1)\n",
    "print(mascara)\n",
    "\n",
    "# Seleccionar los datos que cumplen la condición\n",
    "file_data[mascara,:]"
   ]
  },
  {
   "cell_type": "code",
   "execution_count": 10,
   "metadata": {},
   "outputs": [
    {
     "name": "stdout",
     "output_type": "stream",
     "text": [
      "[[ 692 1332 3939 2403 1537 9703 3230 1827 7335 9914 2255 8383]\n",
      " [9033 7459 5510 3715 2547 4048 3410 5403 4232 2287 8208 3168]\n",
      " [9018 9467 2804 3897 6952 8537 6818 8704 9085 4429 5487  922]\n",
      " [ 238 7284 6619 7143 2953 9804 3235 5776 9878 9109 5921 9908]\n",
      " [9683 1024 2137 9421 7787 1682  564 6187 2607 4579 2835 3666]]\n"
     ]
    }
   ],
   "source": [
    "# Definimos una matriz en el que cada columna es un mes del año y cada fila es un departamento de mi empresa\n",
    "\n",
    "departamentos = np.array(['Ventas', 'Marketing', 'RRHH', 'Compras', 'Producción'])\n",
    "\n",
    "gastos = np.random.randint(0,10000,size=(5,12), dtype=np.int32)\n",
    "print(gastos)"
   ]
  },
  {
   "cell_type": "code",
   "execution_count": 12,
   "metadata": {},
   "outputs": [
    {
     "name": "stdout",
     "output_type": "stream",
     "text": [
      "['Marketing' 'RRHH' 'Producción']\n"
     ]
    }
   ],
   "source": [
    "# Conocer que departamentos gastan más de 5000€ en el mes de enero\n",
    "gastos[:,0] > 5000\n",
    "print(departamentos[gastos[:,0] > 5000])"
   ]
  },
  {
   "cell_type": "code",
   "execution_count": null,
   "metadata": {},
   "outputs": [],
   "source": []
  }
 ],
 "metadata": {
  "kernelspec": {
   "display_name": "Python 3 (ipykernel)",
   "language": "python",
   "name": "python3"
  },
  "language_info": {
   "codemirror_mode": {
    "name": "ipython",
    "version": 3
   },
   "file_extension": ".py",
   "mimetype": "text/x-python",
   "name": "python",
   "nbconvert_exporter": "python",
   "pygments_lexer": "ipython3",
   "version": "3.9.6"
  },
  "vscode": {
   "interpreter": {
    "hash": "31f2aee4e71d21fbe5cf8b01ff0e069b9275f58929596ceb00d14d90e3e16cd6"
   }
  }
 },
 "nbformat": 4,
 "nbformat_minor": 2
}
